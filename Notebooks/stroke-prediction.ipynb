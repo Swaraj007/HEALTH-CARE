{
 "cells": [
  {
   "cell_type": "markdown",
   "id": "b7b2db59",
   "metadata": {},
   "source": [
    "By :- Swaraj Sawarkar"
   ]
  },
  {
   "cell_type": "markdown",
   "id": "fed77136",
   "metadata": {
    "papermill": {
     "duration": 0.054732,
     "end_time": "2021-10-04T16:26:57.028635",
     "exception": false,
     "start_time": "2021-10-04T16:26:56.973903",
     "status": "completed"
    },
    "tags": []
   },
   "source": [
    "**IMPORT LIBRARIES**"
   ]
  },
  {
   "cell_type": "code",
   "execution_count": 1,
   "id": "3b9baed4",
   "metadata": {
    "execution": {
     "iopub.execute_input": "2021-10-04T16:26:57.149626Z",
     "iopub.status.busy": "2021-10-04T16:26:57.146929Z",
     "iopub.status.idle": "2021-10-04T16:26:58.232366Z",
     "shell.execute_reply": "2021-10-04T16:26:58.231664Z",
     "shell.execute_reply.started": "2021-10-04T16:19:08.875892Z"
    },
    "papermill": {
     "duration": 1.149481,
     "end_time": "2021-10-04T16:26:58.232533",
     "exception": false,
     "start_time": "2021-10-04T16:26:57.083052",
     "status": "completed"
    },
    "tags": []
   },
   "outputs": [],
   "source": [
    "import pandas as pd\n",
    "import numpy as np\n",
    "import matplotlib.pyplot as plt\n",
    "import seaborn as sns\n",
    "import warnings\n",
    "warnings.filterwarnings(action='ignore')\n",
    "plt.style.use(['seaborn-bright','dark_background'])"
   ]
  },
  {
   "cell_type": "code",
   "execution_count": 2,
   "id": "a311eb45",
   "metadata": {
    "execution": {
     "iopub.execute_input": "2021-10-04T16:26:58.348805Z",
     "iopub.status.busy": "2021-10-04T16:26:58.348164Z",
     "iopub.status.idle": "2021-10-04T16:26:58.402332Z",
     "shell.execute_reply": "2021-10-04T16:26:58.401588Z",
     "shell.execute_reply.started": "2021-10-04T16:19:08.883247Z"
    },
    "id": "rxu1-x0_1rcJ",
    "outputId": "91c5eece-641b-49b8-a30d-bb8f16a5cccb",
    "papermill": {
     "duration": 0.114228,
     "end_time": "2021-10-04T16:26:58.402473",
     "exception": false,
     "start_time": "2021-10-04T16:26:58.288245",
     "status": "completed"
    },
    "tags": []
   },
   "outputs": [
    {
     "data": {
      "text/html": [
       "<div>\n",
       "<style scoped>\n",
       "    .dataframe tbody tr th:only-of-type {\n",
       "        vertical-align: middle;\n",
       "    }\n",
       "\n",
       "    .dataframe tbody tr th {\n",
       "        vertical-align: top;\n",
       "    }\n",
       "\n",
       "    .dataframe thead th {\n",
       "        text-align: right;\n",
       "    }\n",
       "</style>\n",
       "<table border=\"1\" class=\"dataframe\">\n",
       "  <thead>\n",
       "    <tr style=\"text-align: right;\">\n",
       "      <th></th>\n",
       "      <th>id</th>\n",
       "      <th>gender</th>\n",
       "      <th>age</th>\n",
       "      <th>hypertension</th>\n",
       "      <th>heart_disease</th>\n",
       "      <th>ever_married</th>\n",
       "      <th>work_type</th>\n",
       "      <th>Residence_type</th>\n",
       "      <th>avg_glucose_level</th>\n",
       "      <th>bmi</th>\n",
       "      <th>smoking_status</th>\n",
       "      <th>stroke</th>\n",
       "    </tr>\n",
       "  </thead>\n",
       "  <tbody>\n",
       "    <tr>\n",
       "      <th>0</th>\n",
       "      <td>9046</td>\n",
       "      <td>Male</td>\n",
       "      <td>67.0</td>\n",
       "      <td>0</td>\n",
       "      <td>1</td>\n",
       "      <td>Yes</td>\n",
       "      <td>Private</td>\n",
       "      <td>Urban</td>\n",
       "      <td>228.69</td>\n",
       "      <td>36.6</td>\n",
       "      <td>formerly smoked</td>\n",
       "      <td>1</td>\n",
       "    </tr>\n",
       "    <tr>\n",
       "      <th>1</th>\n",
       "      <td>51676</td>\n",
       "      <td>Female</td>\n",
       "      <td>61.0</td>\n",
       "      <td>0</td>\n",
       "      <td>0</td>\n",
       "      <td>Yes</td>\n",
       "      <td>Self-employed</td>\n",
       "      <td>Rural</td>\n",
       "      <td>202.21</td>\n",
       "      <td>NaN</td>\n",
       "      <td>never smoked</td>\n",
       "      <td>1</td>\n",
       "    </tr>\n",
       "    <tr>\n",
       "      <th>2</th>\n",
       "      <td>31112</td>\n",
       "      <td>Male</td>\n",
       "      <td>80.0</td>\n",
       "      <td>0</td>\n",
       "      <td>1</td>\n",
       "      <td>Yes</td>\n",
       "      <td>Private</td>\n",
       "      <td>Rural</td>\n",
       "      <td>105.92</td>\n",
       "      <td>32.5</td>\n",
       "      <td>never smoked</td>\n",
       "      <td>1</td>\n",
       "    </tr>\n",
       "    <tr>\n",
       "      <th>3</th>\n",
       "      <td>60182</td>\n",
       "      <td>Female</td>\n",
       "      <td>49.0</td>\n",
       "      <td>0</td>\n",
       "      <td>0</td>\n",
       "      <td>Yes</td>\n",
       "      <td>Private</td>\n",
       "      <td>Urban</td>\n",
       "      <td>171.23</td>\n",
       "      <td>34.4</td>\n",
       "      <td>smokes</td>\n",
       "      <td>1</td>\n",
       "    </tr>\n",
       "    <tr>\n",
       "      <th>4</th>\n",
       "      <td>1665</td>\n",
       "      <td>Female</td>\n",
       "      <td>79.0</td>\n",
       "      <td>1</td>\n",
       "      <td>0</td>\n",
       "      <td>Yes</td>\n",
       "      <td>Self-employed</td>\n",
       "      <td>Rural</td>\n",
       "      <td>174.12</td>\n",
       "      <td>24.0</td>\n",
       "      <td>never smoked</td>\n",
       "      <td>1</td>\n",
       "    </tr>\n",
       "  </tbody>\n",
       "</table>\n",
       "</div>"
      ],
      "text/plain": [
       "      id  gender   age  hypertension  heart_disease ever_married  \\\n",
       "0   9046    Male  67.0             0              1          Yes   \n",
       "1  51676  Female  61.0             0              0          Yes   \n",
       "2  31112    Male  80.0             0              1          Yes   \n",
       "3  60182  Female  49.0             0              0          Yes   \n",
       "4   1665  Female  79.0             1              0          Yes   \n",
       "\n",
       "       work_type Residence_type  avg_glucose_level   bmi   smoking_status  \\\n",
       "0        Private          Urban             228.69  36.6  formerly smoked   \n",
       "1  Self-employed          Rural             202.21   NaN     never smoked   \n",
       "2        Private          Rural             105.92  32.5     never smoked   \n",
       "3        Private          Urban             171.23  34.4           smokes   \n",
       "4  Self-employed          Rural             174.12  24.0     never smoked   \n",
       "\n",
       "   stroke  \n",
       "0       1  \n",
       "1       1  \n",
       "2       1  \n",
       "3       1  \n",
       "4       1  "
      ]
     },
     "execution_count": 2,
     "metadata": {},
     "output_type": "execute_result"
    }
   ],
   "source": [
    "df = pd.read_csv('healthcare-dataset-stroke-data.csv')\n",
    "df.head(5)"
   ]
  },
  {
   "cell_type": "code",
   "execution_count": 3,
   "id": "70324c24",
   "metadata": {
    "execution": {
     "iopub.execute_input": "2021-10-04T16:26:58.520498Z",
     "iopub.status.busy": "2021-10-04T16:26:58.519871Z",
     "iopub.status.idle": "2021-10-04T16:26:58.524030Z",
     "shell.execute_reply": "2021-10-04T16:26:58.523233Z",
     "shell.execute_reply.started": "2021-10-04T16:19:08.920129Z"
    },
    "id": "oWPw3PpC2s-d",
    "outputId": "8ac16ae3-d5c8-4d05-f68d-da2c63df4153",
    "papermill": {
     "duration": 0.064462,
     "end_time": "2021-10-04T16:26:58.524230",
     "exception": false,
     "start_time": "2021-10-04T16:26:58.459768",
     "status": "completed"
    },
    "tags": []
   },
   "outputs": [
    {
     "data": {
      "text/plain": [
       "(5110, 12)"
      ]
     },
     "execution_count": 3,
     "metadata": {},
     "output_type": "execute_result"
    }
   ],
   "source": [
    "df.shape"
   ]
  },
  {
   "cell_type": "code",
   "execution_count": 4,
   "id": "0ecbbe69",
   "metadata": {
    "execution": {
     "iopub.execute_input": "2021-10-04T16:26:58.605731Z",
     "iopub.status.busy": "2021-10-04T16:26:58.601717Z",
     "iopub.status.idle": "2021-10-04T16:26:58.629617Z",
     "shell.execute_reply": "2021-10-04T16:26:58.629116Z",
     "shell.execute_reply.started": "2021-10-04T16:19:08.926362Z"
    },
    "id": "4jRCto_X272l",
    "outputId": "af4ed538-04b1-4f3d-d65a-4f64242efd3d",
    "papermill": {
     "duration": 0.067757,
     "end_time": "2021-10-04T16:26:58.629734",
     "exception": false,
     "start_time": "2021-10-04T16:26:58.561977",
     "status": "completed"
    },
    "tags": []
   },
   "outputs": [
    {
     "name": "stdout",
     "output_type": "stream",
     "text": [
      "<class 'pandas.core.frame.DataFrame'>\n",
      "RangeIndex: 5110 entries, 0 to 5109\n",
      "Data columns (total 12 columns):\n",
      " #   Column             Non-Null Count  Dtype  \n",
      "---  ------             --------------  -----  \n",
      " 0   id                 5110 non-null   int64  \n",
      " 1   gender             5110 non-null   object \n",
      " 2   age                5110 non-null   float64\n",
      " 3   hypertension       5110 non-null   int64  \n",
      " 4   heart_disease      5110 non-null   int64  \n",
      " 5   ever_married       5110 non-null   object \n",
      " 6   work_type          5110 non-null   object \n",
      " 7   Residence_type     5110 non-null   object \n",
      " 8   avg_glucose_level  5110 non-null   float64\n",
      " 9   bmi                4909 non-null   float64\n",
      " 10  smoking_status     5110 non-null   object \n",
      " 11  stroke             5110 non-null   int64  \n",
      "dtypes: float64(3), int64(4), object(5)\n",
      "memory usage: 479.2+ KB\n"
     ]
    }
   ],
   "source": [
    "df.info()"
   ]
  },
  {
   "cell_type": "code",
   "execution_count": 5,
   "id": "656bae8e",
   "metadata": {
    "execution": {
     "iopub.execute_input": "2021-10-04T16:26:58.715209Z",
     "iopub.status.busy": "2021-10-04T16:26:58.714694Z",
     "iopub.status.idle": "2021-10-04T16:26:58.744013Z",
     "shell.execute_reply": "2021-10-04T16:26:58.743470Z",
     "shell.execute_reply.started": "2021-10-04T16:19:08.948477Z"
    },
    "id": "Z7JoQNdX3HeF",
    "outputId": "9a44ebac-6636-4462-aae4-e5748ee3e05f",
    "papermill": {
     "duration": 0.076941,
     "end_time": "2021-10-04T16:26:58.744142",
     "exception": false,
     "start_time": "2021-10-04T16:26:58.667201",
     "status": "completed"
    },
    "tags": []
   },
   "outputs": [
    {
     "data": {
      "text/html": [
       "<div>\n",
       "<style scoped>\n",
       "    .dataframe tbody tr th:only-of-type {\n",
       "        vertical-align: middle;\n",
       "    }\n",
       "\n",
       "    .dataframe tbody tr th {\n",
       "        vertical-align: top;\n",
       "    }\n",
       "\n",
       "    .dataframe thead th {\n",
       "        text-align: right;\n",
       "    }\n",
       "</style>\n",
       "<table border=\"1\" class=\"dataframe\">\n",
       "  <thead>\n",
       "    <tr style=\"text-align: right;\">\n",
       "      <th></th>\n",
       "      <th>id</th>\n",
       "      <th>age</th>\n",
       "      <th>hypertension</th>\n",
       "      <th>heart_disease</th>\n",
       "      <th>avg_glucose_level</th>\n",
       "      <th>bmi</th>\n",
       "      <th>stroke</th>\n",
       "    </tr>\n",
       "  </thead>\n",
       "  <tbody>\n",
       "    <tr>\n",
       "      <th>count</th>\n",
       "      <td>5110.000000</td>\n",
       "      <td>5110.000000</td>\n",
       "      <td>5110.000000</td>\n",
       "      <td>5110.000000</td>\n",
       "      <td>5110.000000</td>\n",
       "      <td>4909.000000</td>\n",
       "      <td>5110.000000</td>\n",
       "    </tr>\n",
       "    <tr>\n",
       "      <th>mean</th>\n",
       "      <td>36517.829354</td>\n",
       "      <td>43.226614</td>\n",
       "      <td>0.097456</td>\n",
       "      <td>0.054012</td>\n",
       "      <td>106.147677</td>\n",
       "      <td>28.893237</td>\n",
       "      <td>0.048728</td>\n",
       "    </tr>\n",
       "    <tr>\n",
       "      <th>std</th>\n",
       "      <td>21161.721625</td>\n",
       "      <td>22.612647</td>\n",
       "      <td>0.296607</td>\n",
       "      <td>0.226063</td>\n",
       "      <td>45.283560</td>\n",
       "      <td>7.854067</td>\n",
       "      <td>0.215320</td>\n",
       "    </tr>\n",
       "    <tr>\n",
       "      <th>min</th>\n",
       "      <td>67.000000</td>\n",
       "      <td>0.080000</td>\n",
       "      <td>0.000000</td>\n",
       "      <td>0.000000</td>\n",
       "      <td>55.120000</td>\n",
       "      <td>10.300000</td>\n",
       "      <td>0.000000</td>\n",
       "    </tr>\n",
       "    <tr>\n",
       "      <th>25%</th>\n",
       "      <td>17741.250000</td>\n",
       "      <td>25.000000</td>\n",
       "      <td>0.000000</td>\n",
       "      <td>0.000000</td>\n",
       "      <td>77.245000</td>\n",
       "      <td>23.500000</td>\n",
       "      <td>0.000000</td>\n",
       "    </tr>\n",
       "    <tr>\n",
       "      <th>50%</th>\n",
       "      <td>36932.000000</td>\n",
       "      <td>45.000000</td>\n",
       "      <td>0.000000</td>\n",
       "      <td>0.000000</td>\n",
       "      <td>91.885000</td>\n",
       "      <td>28.100000</td>\n",
       "      <td>0.000000</td>\n",
       "    </tr>\n",
       "    <tr>\n",
       "      <th>75%</th>\n",
       "      <td>54682.000000</td>\n",
       "      <td>61.000000</td>\n",
       "      <td>0.000000</td>\n",
       "      <td>0.000000</td>\n",
       "      <td>114.090000</td>\n",
       "      <td>33.100000</td>\n",
       "      <td>0.000000</td>\n",
       "    </tr>\n",
       "    <tr>\n",
       "      <th>max</th>\n",
       "      <td>72940.000000</td>\n",
       "      <td>82.000000</td>\n",
       "      <td>1.000000</td>\n",
       "      <td>1.000000</td>\n",
       "      <td>271.740000</td>\n",
       "      <td>97.600000</td>\n",
       "      <td>1.000000</td>\n",
       "    </tr>\n",
       "  </tbody>\n",
       "</table>\n",
       "</div>"
      ],
      "text/plain": [
       "                 id          age  hypertension  heart_disease  \\\n",
       "count   5110.000000  5110.000000   5110.000000    5110.000000   \n",
       "mean   36517.829354    43.226614      0.097456       0.054012   \n",
       "std    21161.721625    22.612647      0.296607       0.226063   \n",
       "min       67.000000     0.080000      0.000000       0.000000   \n",
       "25%    17741.250000    25.000000      0.000000       0.000000   \n",
       "50%    36932.000000    45.000000      0.000000       0.000000   \n",
       "75%    54682.000000    61.000000      0.000000       0.000000   \n",
       "max    72940.000000    82.000000      1.000000       1.000000   \n",
       "\n",
       "       avg_glucose_level          bmi       stroke  \n",
       "count        5110.000000  4909.000000  5110.000000  \n",
       "mean          106.147677    28.893237     0.048728  \n",
       "std            45.283560     7.854067     0.215320  \n",
       "min            55.120000    10.300000     0.000000  \n",
       "25%            77.245000    23.500000     0.000000  \n",
       "50%            91.885000    28.100000     0.000000  \n",
       "75%           114.090000    33.100000     0.000000  \n",
       "max           271.740000    97.600000     1.000000  "
      ]
     },
     "execution_count": 5,
     "metadata": {},
     "output_type": "execute_result"
    }
   ],
   "source": [
    "df.describe()"
   ]
  },
  {
   "cell_type": "code",
   "execution_count": 6,
   "id": "8f3c8347",
   "metadata": {
    "execution": {
     "iopub.execute_input": "2021-10-04T16:26:58.824938Z",
     "iopub.status.busy": "2021-10-04T16:26:58.824423Z",
     "iopub.status.idle": "2021-10-04T16:26:58.832897Z",
     "shell.execute_reply": "2021-10-04T16:26:58.832456Z",
     "shell.execute_reply.started": "2021-10-04T16:19:08.979119Z"
    },
    "id": "ueE4eVu33J6l",
    "outputId": "728d1d56-fec7-4e83-b298-c426081eb141",
    "papermill": {
     "duration": 0.049767,
     "end_time": "2021-10-04T16:26:58.833024",
     "exception": false,
     "start_time": "2021-10-04T16:26:58.783257",
     "status": "completed"
    },
    "tags": []
   },
   "outputs": [
    {
     "data": {
      "text/plain": [
       "id                     0\n",
       "gender                 0\n",
       "age                    0\n",
       "hypertension           0\n",
       "heart_disease          0\n",
       "ever_married           0\n",
       "work_type              0\n",
       "Residence_type         0\n",
       "avg_glucose_level      0\n",
       "bmi                  201\n",
       "smoking_status         0\n",
       "stroke                 0\n",
       "dtype: int64"
      ]
     },
     "execution_count": 6,
     "metadata": {},
     "output_type": "execute_result"
    }
   ],
   "source": [
    "df.isnull().sum()"
   ]
  },
  {
   "cell_type": "code",
   "execution_count": 7,
   "id": "0d5402e5",
   "metadata": {
    "execution": {
     "iopub.execute_input": "2021-10-04T16:26:58.915412Z",
     "iopub.status.busy": "2021-10-04T16:26:58.914679Z",
     "iopub.status.idle": "2021-10-04T16:26:58.920251Z",
     "shell.execute_reply": "2021-10-04T16:26:58.919828Z",
     "shell.execute_reply.started": "2021-10-04T16:19:08.992376Z"
    },
    "id": "JfYZRPXT3N1V",
    "outputId": "e9ceec0a-c69e-42ec-f7a8-2f25ec3cbc51",
    "papermill": {
     "duration": 0.04835,
     "end_time": "2021-10-04T16:26:58.920366",
     "exception": false,
     "start_time": "2021-10-04T16:26:58.872016",
     "status": "completed"
    },
    "tags": []
   },
   "outputs": [
    {
     "data": {
      "text/plain": [
       "Index(['id', 'gender', 'age', 'hypertension', 'heart_disease', 'ever_married',\n",
       "       'work_type', 'Residence_type', 'avg_glucose_level', 'bmi',\n",
       "       'smoking_status', 'stroke'],\n",
       "      dtype='object')"
      ]
     },
     "execution_count": 7,
     "metadata": {},
     "output_type": "execute_result"
    }
   ],
   "source": [
    "df.columns"
   ]
  },
  {
   "cell_type": "code",
   "execution_count": 8,
   "id": "8eea92ff",
   "metadata": {
    "execution": {
     "iopub.execute_input": "2021-10-04T16:26:59.002228Z",
     "iopub.status.busy": "2021-10-04T16:26:59.001774Z",
     "iopub.status.idle": "2021-10-04T16:26:59.415080Z",
     "shell.execute_reply": "2021-10-04T16:26:59.414626Z",
     "shell.execute_reply.started": "2021-10-04T16:19:09.001519Z"
    },
    "id": "Ugqvgsaa3U_V",
    "papermill": {
     "duration": 0.455093,
     "end_time": "2021-10-04T16:26:59.415200",
     "exception": false,
     "start_time": "2021-10-04T16:26:58.960107",
     "status": "completed"
    },
    "tags": []
   },
   "outputs": [],
   "source": [
    "from sklearn.impute import KNNImputer"
   ]
  },
  {
   "cell_type": "code",
   "execution_count": 9,
   "id": "156e5f6b",
   "metadata": {
    "execution": {
     "iopub.execute_input": "2021-10-04T16:26:59.499275Z",
     "iopub.status.busy": "2021-10-04T16:26:59.498785Z",
     "iopub.status.idle": "2021-10-04T16:26:59.560730Z",
     "shell.execute_reply": "2021-10-04T16:26:59.560154Z",
     "shell.execute_reply.started": "2021-10-04T16:19:09.010099Z"
    },
    "id": "z77ckEN54X42",
    "papermill": {
     "duration": 0.105912,
     "end_time": "2021-10-04T16:26:59.560865",
     "exception": false,
     "start_time": "2021-10-04T16:26:59.454953",
     "status": "completed"
    },
    "tags": []
   },
   "outputs": [],
   "source": [
    "imputer = KNNImputer(n_neighbors= 5)\n",
    "df['bmi']=imputer.fit_transform(df[['bmi']])"
   ]
  },
  {
   "cell_type": "code",
   "execution_count": 10,
   "id": "769b8a7a",
   "metadata": {
    "execution": {
     "iopub.execute_input": "2021-10-04T16:26:59.665172Z",
     "iopub.status.busy": "2021-10-04T16:26:59.664643Z",
     "iopub.status.idle": "2021-10-04T16:26:59.670582Z",
     "shell.execute_reply": "2021-10-04T16:26:59.670128Z",
     "shell.execute_reply.started": "2021-10-04T16:19:09.075947Z"
    },
    "id": "H9LqHm9i448H",
    "outputId": "5fdf617e-0c18-400c-9839-a1f0217a6901",
    "papermill": {
     "duration": 0.059498,
     "end_time": "2021-10-04T16:26:59.670703",
     "exception": false,
     "start_time": "2021-10-04T16:26:59.611205",
     "status": "completed"
    },
    "tags": []
   },
   "outputs": [
    {
     "data": {
      "text/plain": [
       "id                   0\n",
       "gender               0\n",
       "age                  0\n",
       "hypertension         0\n",
       "heart_disease        0\n",
       "ever_married         0\n",
       "work_type            0\n",
       "Residence_type       0\n",
       "avg_glucose_level    0\n",
       "bmi                  0\n",
       "smoking_status       0\n",
       "stroke               0\n",
       "dtype: int64"
      ]
     },
     "execution_count": 10,
     "metadata": {},
     "output_type": "execute_result"
    }
   ],
   "source": [
    "df.isnull().sum()"
   ]
  },
  {
   "cell_type": "markdown",
   "id": "18a995e2",
   "metadata": {
    "papermill": {
     "duration": 0.039156,
     "end_time": "2021-10-04T16:26:59.748490",
     "exception": false,
     "start_time": "2021-10-04T16:26:59.709334",
     "status": "completed"
    },
    "tags": []
   },
   "source": [
    "**EXPLORATORY DATA ANALYSIS**"
   ]
  },
  {
   "cell_type": "code",
   "execution_count": 11,
   "id": "0a64bf6b",
   "metadata": {
    "execution": {
     "iopub.execute_input": "2021-10-04T16:26:59.836495Z",
     "iopub.status.busy": "2021-10-04T16:26:59.835965Z",
     "iopub.status.idle": "2021-10-04T16:26:59.840228Z",
     "shell.execute_reply": "2021-10-04T16:26:59.839794Z",
     "shell.execute_reply.started": "2021-10-04T16:19:09.134970Z"
    },
    "id": "vHRTcJCD8_Z5",
    "outputId": "db9e3f4f-d837-4c2e-fa1b-4f12852fed32",
    "papermill": {
     "duration": 0.052721,
     "end_time": "2021-10-04T16:26:59.840352",
     "exception": false,
     "start_time": "2021-10-04T16:26:59.787631",
     "status": "completed"
    },
    "tags": []
   },
   "outputs": [
    {
     "data": {
      "text/html": [
       "<div>\n",
       "<style scoped>\n",
       "    .dataframe tbody tr th:only-of-type {\n",
       "        vertical-align: middle;\n",
       "    }\n",
       "\n",
       "    .dataframe tbody tr th {\n",
       "        vertical-align: top;\n",
       "    }\n",
       "\n",
       "    .dataframe thead th {\n",
       "        text-align: right;\n",
       "    }\n",
       "</style>\n",
       "<table border=\"1\" class=\"dataframe\">\n",
       "  <thead>\n",
       "    <tr style=\"text-align: right;\">\n",
       "      <th></th>\n",
       "      <th>id</th>\n",
       "      <th>age</th>\n",
       "      <th>hypertension</th>\n",
       "      <th>heart_disease</th>\n",
       "      <th>avg_glucose_level</th>\n",
       "    </tr>\n",
       "  </thead>\n",
       "  <tbody>\n",
       "    <tr>\n",
       "      <th>0</th>\n",
       "      <td>9046</td>\n",
       "      <td>67.0</td>\n",
       "      <td>0</td>\n",
       "      <td>1</td>\n",
       "      <td>228.69</td>\n",
       "    </tr>\n",
       "    <tr>\n",
       "      <th>1</th>\n",
       "      <td>51676</td>\n",
       "      <td>61.0</td>\n",
       "      <td>0</td>\n",
       "      <td>0</td>\n",
       "      <td>202.21</td>\n",
       "    </tr>\n",
       "    <tr>\n",
       "      <th>2</th>\n",
       "      <td>31112</td>\n",
       "      <td>80.0</td>\n",
       "      <td>0</td>\n",
       "      <td>1</td>\n",
       "      <td>105.92</td>\n",
       "    </tr>\n",
       "    <tr>\n",
       "      <th>3</th>\n",
       "      <td>60182</td>\n",
       "      <td>49.0</td>\n",
       "      <td>0</td>\n",
       "      <td>0</td>\n",
       "      <td>171.23</td>\n",
       "    </tr>\n",
       "    <tr>\n",
       "      <th>4</th>\n",
       "      <td>1665</td>\n",
       "      <td>79.0</td>\n",
       "      <td>1</td>\n",
       "      <td>0</td>\n",
       "      <td>174.12</td>\n",
       "    </tr>\n",
       "  </tbody>\n",
       "</table>\n",
       "</div>"
      ],
      "text/plain": [
       "      id   age  hypertension  heart_disease  avg_glucose_level\n",
       "0   9046  67.0             0              1             228.69\n",
       "1  51676  61.0             0              0             202.21\n",
       "2  31112  80.0             0              1             105.92\n",
       "3  60182  49.0             0              0             171.23\n",
       "4   1665  79.0             1              0             174.12"
      ]
     },
     "execution_count": 11,
     "metadata": {},
     "output_type": "execute_result"
    }
   ],
   "source": [
    "n_df = df[['id','age','hypertension','heart_disease',\t'avg_glucose_level']]\n",
    "n_df.head()"
   ]
  },
  {
   "cell_type": "code",
   "execution_count": 12,
   "id": "d4b6130b",
   "metadata": {
    "execution": {
     "iopub.execute_input": "2021-10-04T16:26:59.938140Z",
     "iopub.status.busy": "2021-10-04T16:26:59.937400Z",
     "iopub.status.idle": "2021-10-04T16:27:01.330068Z",
     "shell.execute_reply": "2021-10-04T16:27:01.329273Z",
     "shell.execute_reply.started": "2021-10-04T16:19:09.155314Z"
    },
    "id": "xN9-T2em8bD9",
    "outputId": "adc74e23-1dc6-448a-aaea-15423508b305",
    "papermill": {
     "duration": 1.451003,
     "end_time": "2021-10-04T16:27:01.330204",
     "exception": false,
     "start_time": "2021-10-04T16:26:59.879201",
     "status": "completed"
    },
    "tags": []
   },
   "outputs": [
    {
     "data": {
      "image/png": "[encoded data removed]",
      "text/plain": [
       "<Figure size 2000x3000 with 5 Axes>"
      ]
     },
     "metadata": {},
     "output_type": "display_data"
    }
   ],
   "source": [
    "plt.figure(figsize=(20,30),facecolor =\"r\")\n",
    "plotnumber=1\n",
    "\n",
    "for column in n_df:\n",
    "  if plotnumber<=15:\n",
    "    ax = plt.subplot(5,3,plotnumber)\n",
    "    sns.distplot(n_df[column])\n",
    "    plt.xlabel(column,fontsize = 20)\n",
    "\n",
    "  plotnumber+=1\n",
    "plt.tight_layout()   \n",
    "plt.show() \n"
   ]
  },
  {
   "cell_type": "code",
   "execution_count": 13,
   "id": "15af0459",
   "metadata": {
    "execution": {
     "iopub.execute_input": "2021-10-04T16:27:01.420638Z",
     "iopub.status.busy": "2021-10-04T16:27:01.420084Z",
     "iopub.status.idle": "2021-10-04T16:27:02.078975Z",
     "shell.execute_reply": "2021-10-04T16:27:02.078524Z",
     "shell.execute_reply.started": "2021-10-04T16:19:10.921714Z"
    },
    "id": "vr2tMLfN_udD",
    "outputId": "8b10f7f4-70eb-4871-8b99-969cbbaf3692",
    "papermill": {
     "duration": 0.706184,
     "end_time": "2021-10-04T16:27:02.079095",
     "exception": false,
     "start_time": "2021-10-04T16:27:01.372911",
     "status": "completed"
    },
    "tags": []
   },
   "outputs": [
    {
     "data": {
      "image/png": "[encoded data removed]",
      "text/plain": [
       "<Figure size 2000x3000 with 5 Axes>"
      ]
     },
     "metadata": {},
     "output_type": "display_data"
    }
   ],
   "source": [
    "plt.figure(figsize=(20,30),facecolor =\"r\")\n",
    "plotnumber=1\n",
    "\n",
    "for column in n_df:\n",
    "  if plotnumber<=15:\n",
    "    ax = plt.subplot(5,3,plotnumber)\n",
    "    sns.boxplot(n_df[column])\n",
    "    plt.xlabel(column,fontsize = 20)\n",
    "\n",
    "  plotnumber+=1\n",
    "plt.tight_layout()   \n",
    "plt.show() "
   ]
  },
  {
   "cell_type": "code",
   "execution_count": 14,
   "id": "6a5af627",
   "metadata": {
    "execution": {
     "iopub.execute_input": "2021-10-04T16:27:02.182687Z",
     "iopub.status.busy": "2021-10-04T16:27:02.182127Z",
     "iopub.status.idle": "2021-10-04T16:27:03.103666Z",
     "shell.execute_reply": "2021-10-04T16:27:03.104204Z",
     "shell.execute_reply.started": "2021-10-04T16:19:11.866842Z"
    },
    "id": "kNA0QqOSAvFO",
    "outputId": "2dccfb58-5d0d-4036-eca0-44be68cd962b",
    "papermill": {
     "duration": 0.982042,
     "end_time": "2021-10-04T16:27:03.104404",
     "exception": false,
     "start_time": "2021-10-04T16:27:02.122362",
     "status": "completed"
    },
    "tags": []
   },
   "outputs": [
    {
     "data": {
      "image/png": "[encoded data removed]",
      "text/plain": [
       "<Figure size 2000x3000 with 5 Axes>"
      ]
     },
     "metadata": {},
     "output_type": "display_data"
    }
   ],
   "source": [
    "plt.figure(figsize=(20,30),facecolor =\"r\")\n",
    "plotnumber=1\n",
    "\n",
    "for column in n_df:\n",
    "  if plotnumber<=15:\n",
    "    ax = plt.subplot(5,3,plotnumber)\n",
    "    sns.kdeplot(n_df[column])\n",
    "    plt.xlabel(column,fontsize = 20)\n",
    "\n",
    "  plotnumber+=1\n",
    "plt.tight_layout()   \n",
    "plt.show() "
   ]
  },
  {
   "cell_type": "code",
   "execution_count": 15,
   "id": "0eb617ed",
   "metadata": {
    "execution": {
     "iopub.execute_input": "2021-10-04T16:27:03.242943Z",
     "iopub.status.busy": "2021-10-04T16:27:03.242275Z",
     "iopub.status.idle": "2021-10-04T16:27:03.245952Z",
     "shell.execute_reply": "2021-10-04T16:27:03.245306Z",
     "shell.execute_reply.started": "2021-10-04T16:19:13.286440Z"
    },
    "id": "mkvZYkZ1ONEV",
    "papermill": {
     "duration": 0.074409,
     "end_time": "2021-10-04T16:27:03.246098",
     "exception": false,
     "start_time": "2021-10-04T16:27:03.171689",
     "status": "completed"
    },
    "tags": []
   },
   "outputs": [],
   "source": [
    "# categorical columns"
   ]
  },
  {
   "cell_type": "markdown",
   "id": "f9a94400",
   "metadata": {
    "papermill": {
     "duration": 0.066306,
     "end_time": "2021-10-04T16:27:03.378103",
     "exception": false,
     "start_time": "2021-10-04T16:27:03.311797",
     "status": "completed"
    },
    "tags": []
   },
   "source": [
    "**CATEGORICAL DATA**"
   ]
  },
  {
   "cell_type": "code",
   "execution_count": 16,
   "id": "5106c279",
   "metadata": {
    "execution": {
     "iopub.execute_input": "2021-10-04T16:27:03.518016Z",
     "iopub.status.busy": "2021-10-04T16:27:03.512399Z",
     "iopub.status.idle": "2021-10-04T16:27:03.670007Z",
     "shell.execute_reply": "2021-10-04T16:27:03.671089Z",
     "shell.execute_reply.started": "2021-10-04T16:19:13.291211Z"
    },
    "id": "9CHQXd3GA7og",
    "outputId": "fe6507a0-9b00-4e67-85ff-179a94868696",
    "papermill": {
     "duration": 0.227472,
     "end_time": "2021-10-04T16:27:03.671411",
     "exception": false,
     "start_time": "2021-10-04T16:27:03.443939",
     "status": "completed"
    },
    "tags": []
   },
   "outputs": [
    {
     "data": {
      "image/png": "[encoded data removed]",
      "text/plain": [
       "<Figure size 640x480 with 1 Axes>"
      ]
     },
     "metadata": {},
     "output_type": "display_data"
    }
   ],
   "source": [
    "sns.countplot(df['gender'])\n",
    "plt.show()"
   ]
  },
  {
   "cell_type": "code",
   "execution_count": 17,
   "id": "daed65a2",
   "metadata": {
    "execution": {
     "iopub.execute_input": "2021-10-04T16:27:03.765716Z",
     "iopub.status.busy": "2021-10-04T16:27:03.765216Z",
     "iopub.status.idle": "2021-10-04T16:27:03.910317Z",
     "shell.execute_reply": "2021-10-04T16:27:03.911230Z",
     "shell.execute_reply.started": "2021-10-04T16:19:13.484001Z"
    },
    "id": "sY9OtJeiBmdr",
    "outputId": "8052bc0f-24f7-4006-f4dd-afbda3f55068",
    "papermill": {
     "duration": 0.194275,
     "end_time": "2021-10-04T16:27:03.911436",
     "exception": false,
     "start_time": "2021-10-04T16:27:03.717161",
     "status": "completed"
    },
    "tags": []
   },
   "outputs": [
    {
     "data": {
      "image/png": "[encoded data removed]",
      "text/plain": [
       "<Figure size 640x480 with 1 Axes>"
      ]
     },
     "metadata": {},
     "output_type": "display_data"
    }
   ],
   "source": [
    "'''id\tgender\tage\thypertension\theart_disease\tever_married\twork_type\tResidence_type\tavg_glucose_level\tbmi\tsmoking_status\tstroke'''\n",
    "sns.countplot(df['ever_married'])\n",
    "plt.show()"
   ]
  },
  {
   "cell_type": "code",
   "execution_count": 18,
   "id": "77e47cef",
   "metadata": {
    "execution": {
     "iopub.execute_input": "2021-10-04T16:27:04.010485Z",
     "iopub.status.busy": "2021-10-04T16:27:04.009949Z",
     "iopub.status.idle": "2021-10-04T16:27:04.179845Z",
     "shell.execute_reply": "2021-10-04T16:27:04.179406Z",
     "shell.execute_reply.started": "2021-10-04T16:19:13.668848Z"
    },
    "id": "ojheFBW5CeiL",
    "outputId": "36ed81df-7dfa-45a5-ecfa-8e9ab3e98669",
    "papermill": {
     "duration": 0.21973,
     "end_time": "2021-10-04T16:27:04.179956",
     "exception": false,
     "start_time": "2021-10-04T16:27:03.960226",
     "status": "completed"
    },
    "tags": []
   },
   "outputs": [
    {
     "data": {
      "image/png": "[encoded data removed]",
      "text/plain": [
       "<Figure size 640x480 with 1 Axes>"
      ]
     },
     "metadata": {},
     "output_type": "display_data"
    }
   ],
   "source": [
    "sns.countplot(df['work_type'])\n",
    "plt.show()\n"
   ]
  },
  {
   "cell_type": "code",
   "execution_count": 19,
   "id": "4bdff12b",
   "metadata": {},
   "outputs": [],
   "source": [
    "## As the never worked field is very less in number we will drop theses rows.\n",
    "df = df[df['work_type']!='Never_worked']"
   ]
  },
  {
   "cell_type": "code",
   "execution_count": 20,
   "id": "04017340",
   "metadata": {
    "execution": {
     "iopub.execute_input": "2021-10-04T16:27:04.281750Z",
     "iopub.status.busy": "2021-10-04T16:27:04.281052Z",
     "iopub.status.idle": "2021-10-04T16:27:04.391980Z",
     "shell.execute_reply": "2021-10-04T16:27:04.392464Z",
     "shell.execute_reply.started": "2021-10-04T16:19:13.886275Z"
    },
    "id": "9IALnjXZCh41",
    "outputId": "a17916bd-e98a-4506-dbef-a455d089c382",
    "papermill": {
     "duration": 0.166215,
     "end_time": "2021-10-04T16:27:04.392669",
     "exception": false,
     "start_time": "2021-10-04T16:27:04.226454",
     "status": "completed"
    },
    "tags": []
   },
   "outputs": [
    {
     "data": {
      "image/png": "[encoded data removed]",
      "text/plain": [
       "<Figure size 640x480 with 1 Axes>"
      ]
     },
     "metadata": {},
     "output_type": "display_data"
    }
   ],
   "source": [
    "sns.countplot(df['Residence_type'])\n",
    "plt.show()"
   ]
  },
  {
   "cell_type": "code",
   "execution_count": 21,
   "id": "7285ac7c",
   "metadata": {
    "execution": {
     "iopub.execute_input": "2021-10-04T16:27:04.503627Z",
     "iopub.status.busy": "2021-10-04T16:27:04.503022Z",
     "iopub.status.idle": "2021-10-04T16:27:04.666628Z",
     "shell.execute_reply": "2021-10-04T16:27:04.666161Z",
     "shell.execute_reply.started": "2021-10-04T16:19:14.211895Z"
    },
    "id": "meVhJXoHCyni",
    "outputId": "b0f9599e-b3ce-4249-edf6-74c7dbcc623d",
    "papermill": {
     "duration": 0.216676,
     "end_time": "2021-10-04T16:27:04.666754",
     "exception": false,
     "start_time": "2021-10-04T16:27:04.450078",
     "status": "completed"
    },
    "tags": []
   },
   "outputs": [
    {
     "data": {
      "image/png": "[encoded data removed]",
      "text/plain": [
       "<Figure size 640x480 with 1 Axes>"
      ]
     },
     "metadata": {},
     "output_type": "display_data"
    }
   ],
   "source": [
    "sns.countplot(df['smoking_status'])\n",
    "plt.show()"
   ]
  },
  {
   "cell_type": "markdown",
   "id": "ad59d059",
   "metadata": {
    "papermill": {
     "duration": 0.050159,
     "end_time": "2021-10-04T16:27:04.766532",
     "exception": false,
     "start_time": "2021-10-04T16:27:04.716373",
     "status": "completed"
    },
    "tags": []
   },
   "source": [
    "**HANDLING CATEGORICAL DATA**"
   ]
  },
  {
   "cell_type": "code",
   "execution_count": 22,
   "id": "f3b540bd",
   "metadata": {
    "execution": {
     "iopub.execute_input": "2021-10-04T16:27:04.882034Z",
     "iopub.status.busy": "2021-10-04T16:27:04.874684Z",
     "iopub.status.idle": "2021-10-04T16:27:04.885466Z",
     "shell.execute_reply": "2021-10-04T16:27:04.885946Z",
     "shell.execute_reply.started": "2021-10-04T16:19:14.418709Z"
    },
    "id": "xiWZ8SO4DFap",
    "outputId": "75d80700-f0ae-431b-8538-4732817c1723",
    "papermill": {
     "duration": 0.069828,
     "end_time": "2021-10-04T16:27:04.886088",
     "exception": false,
     "start_time": "2021-10-04T16:27:04.816260",
     "status": "completed"
    },
    "tags": []
   },
   "outputs": [
    {
     "data": {
      "text/html": [
       "<div>\n",
       "<style scoped>\n",
       "    .dataframe tbody tr th:only-of-type {\n",
       "        vertical-align: middle;\n",
       "    }\n",
       "\n",
       "    .dataframe tbody tr th {\n",
       "        vertical-align: top;\n",
       "    }\n",
       "\n",
       "    .dataframe thead th {\n",
       "        text-align: right;\n",
       "    }\n",
       "</style>\n",
       "<table border=\"1\" class=\"dataframe\">\n",
       "  <thead>\n",
       "    <tr style=\"text-align: right;\">\n",
       "      <th></th>\n",
       "      <th>id</th>\n",
       "      <th>gender</th>\n",
       "      <th>age</th>\n",
       "      <th>hypertension</th>\n",
       "      <th>heart_disease</th>\n",
       "      <th>ever_married</th>\n",
       "      <th>work_type</th>\n",
       "      <th>Residence_type</th>\n",
       "      <th>avg_glucose_level</th>\n",
       "      <th>bmi</th>\n",
       "      <th>smoking_status</th>\n",
       "      <th>stroke</th>\n",
       "    </tr>\n",
       "  </thead>\n",
       "  <tbody>\n",
       "    <tr>\n",
       "      <th>0</th>\n",
       "      <td>9046</td>\n",
       "      <td>Male</td>\n",
       "      <td>67.0</td>\n",
       "      <td>0</td>\n",
       "      <td>1</td>\n",
       "      <td>Yes</td>\n",
       "      <td>Private</td>\n",
       "      <td>Urban</td>\n",
       "      <td>228.69</td>\n",
       "      <td>36.600000</td>\n",
       "      <td>formerly smoked</td>\n",
       "      <td>1</td>\n",
       "    </tr>\n",
       "    <tr>\n",
       "      <th>1</th>\n",
       "      <td>51676</td>\n",
       "      <td>Female</td>\n",
       "      <td>61.0</td>\n",
       "      <td>0</td>\n",
       "      <td>0</td>\n",
       "      <td>Yes</td>\n",
       "      <td>Self-employed</td>\n",
       "      <td>Rural</td>\n",
       "      <td>202.21</td>\n",
       "      <td>28.893237</td>\n",
       "      <td>never smoked</td>\n",
       "      <td>1</td>\n",
       "    </tr>\n",
       "    <tr>\n",
       "      <th>2</th>\n",
       "      <td>31112</td>\n",
       "      <td>Male</td>\n",
       "      <td>80.0</td>\n",
       "      <td>0</td>\n",
       "      <td>1</td>\n",
       "      <td>Yes</td>\n",
       "      <td>Private</td>\n",
       "      <td>Rural</td>\n",
       "      <td>105.92</td>\n",
       "      <td>32.500000</td>\n",
       "      <td>never smoked</td>\n",
       "      <td>1</td>\n",
       "    </tr>\n",
       "    <tr>\n",
       "      <th>3</th>\n",
       "      <td>60182</td>\n",
       "      <td>Female</td>\n",
       "      <td>49.0</td>\n",
       "      <td>0</td>\n",
       "      <td>0</td>\n",
       "      <td>Yes</td>\n",
       "      <td>Private</td>\n",
       "      <td>Urban</td>\n",
       "      <td>171.23</td>\n",
       "      <td>34.400000</td>\n",
       "      <td>smokes</td>\n",
       "      <td>1</td>\n",
       "    </tr>\n",
       "    <tr>\n",
       "      <th>4</th>\n",
       "      <td>1665</td>\n",
       "      <td>Female</td>\n",
       "      <td>79.0</td>\n",
       "      <td>1</td>\n",
       "      <td>0</td>\n",
       "      <td>Yes</td>\n",
       "      <td>Self-employed</td>\n",
       "      <td>Rural</td>\n",
       "      <td>174.12</td>\n",
       "      <td>24.000000</td>\n",
       "      <td>never smoked</td>\n",
       "      <td>1</td>\n",
       "    </tr>\n",
       "  </tbody>\n",
       "</table>\n",
       "</div>"
      ],
      "text/plain": [
       "      id  gender   age  hypertension  heart_disease ever_married  \\\n",
       "0   9046    Male  67.0             0              1          Yes   \n",
       "1  51676  Female  61.0             0              0          Yes   \n",
       "2  31112    Male  80.0             0              1          Yes   \n",
       "3  60182  Female  49.0             0              0          Yes   \n",
       "4   1665  Female  79.0             1              0          Yes   \n",
       "\n",
       "       work_type Residence_type  avg_glucose_level        bmi  \\\n",
       "0        Private          Urban             228.69  36.600000   \n",
       "1  Self-employed          Rural             202.21  28.893237   \n",
       "2        Private          Rural             105.92  32.500000   \n",
       "3        Private          Urban             171.23  34.400000   \n",
       "4  Self-employed          Rural             174.12  24.000000   \n",
       "\n",
       "    smoking_status  stroke  \n",
       "0  formerly smoked       1  \n",
       "1     never smoked       1  \n",
       "2     never smoked       1  \n",
       "3           smokes       1  \n",
       "4     never smoked       1  "
      ]
     },
     "execution_count": 22,
     "metadata": {},
     "output_type": "execute_result"
    }
   ],
   "source": [
    "df.head()"
   ]
  },
  {
   "cell_type": "code",
   "execution_count": 23,
   "id": "5d68c9a8",
   "metadata": {
    "execution": {
     "iopub.execute_input": "2021-10-04T16:27:04.990599Z",
     "iopub.status.busy": "2021-10-04T16:27:04.989795Z",
     "iopub.status.idle": "2021-10-04T16:27:04.994304Z",
     "shell.execute_reply": "2021-10-04T16:27:04.993769Z",
     "shell.execute_reply.started": "2021-10-04T16:19:14.435955Z"
    },
    "id": "ISqJsFbVFvoA",
    "outputId": "b53fed78-f2ae-4bd3-d9c8-29e6d3bf2127",
    "papermill": {
     "duration": 0.059029,
     "end_time": "2021-10-04T16:27:04.994435",
     "exception": false,
     "start_time": "2021-10-04T16:27:04.935406",
     "status": "completed"
    },
    "tags": []
   },
   "outputs": [
    {
     "data": {
      "text/plain": [
       "never smoked       1878\n",
       "Unknown            1536\n",
       "formerly smoked     885\n",
       "smokes              789\n",
       "Name: smoking_status, dtype: int64"
      ]
     },
     "execution_count": 23,
     "metadata": {},
     "output_type": "execute_result"
    }
   ],
   "source": [
    "df['smoking_status'].value_counts()"
   ]
  },
  {
   "cell_type": "code",
   "execution_count": 24,
   "id": "f20c661d",
   "metadata": {
    "execution": {
     "iopub.execute_input": "2021-10-04T16:27:05.142889Z",
     "iopub.status.busy": "2021-10-04T16:27:05.141995Z",
     "iopub.status.idle": "2021-10-04T16:27:05.148883Z",
     "shell.execute_reply": "2021-10-04T16:27:05.148455Z",
     "shell.execute_reply.started": "2021-10-04T16:19:14.448435Z"
    },
    "id": "3l7pd8bZF5Vo",
    "outputId": "7baa1270-b117-4191-d0a7-9a96cc6fa5c3",
    "papermill": {
     "duration": 0.082806,
     "end_time": "2021-10-04T16:27:05.148995",
     "exception": false,
     "start_time": "2021-10-04T16:27:05.066189",
     "status": "completed"
    },
    "tags": []
   },
   "outputs": [
    {
     "data": {
      "text/plain": [
       "4"
      ]
     },
     "execution_count": 24,
     "metadata": {},
     "output_type": "execute_result"
    }
   ],
   "source": [
    "df.smoking_status.nunique()"
   ]
  },
  {
   "cell_type": "code",
   "execution_count": 25,
   "id": "69de279d",
   "metadata": {
    "execution": {
     "iopub.execute_input": "2021-10-04T16:27:05.254710Z",
     "iopub.status.busy": "2021-10-04T16:27:05.254152Z",
     "iopub.status.idle": "2021-10-04T16:27:05.265040Z",
     "shell.execute_reply": "2021-10-04T16:27:05.264616Z",
     "shell.execute_reply.started": "2021-10-04T16:19:14.461308Z"
    },
    "id": "J_Yh4t77GRY5",
    "outputId": "4b4606c9-b41d-4441-8a1a-cf66c8d490a8",
    "papermill": {
     "duration": 0.06728,
     "end_time": "2021-10-04T16:27:05.265173",
     "exception": false,
     "start_time": "2021-10-04T16:27:05.197893",
     "status": "completed"
    },
    "tags": []
   },
   "outputs": [
    {
     "name": "stdout",
     "output_type": "stream",
     "text": [
      "<class 'pandas.core.frame.DataFrame'>\n",
      "Int64Index: 5088 entries, 0 to 5109\n",
      "Data columns (total 12 columns):\n",
      " #   Column             Non-Null Count  Dtype  \n",
      "---  ------             --------------  -----  \n",
      " 0   id                 5088 non-null   int64  \n",
      " 1   gender             5088 non-null   object \n",
      " 2   age                5088 non-null   float64\n",
      " 3   hypertension       5088 non-null   int64  \n",
      " 4   heart_disease      5088 non-null   int64  \n",
      " 5   ever_married       5088 non-null   object \n",
      " 6   work_type          5088 non-null   object \n",
      " 7   Residence_type     5088 non-null   object \n",
      " 8   avg_glucose_level  5088 non-null   float64\n",
      " 9   bmi                5088 non-null   float64\n",
      " 10  smoking_status     5088 non-null   object \n",
      " 11  stroke             5088 non-null   int64  \n",
      "dtypes: float64(3), int64(4), object(5)\n",
      "memory usage: 645.8+ KB\n"
     ]
    }
   ],
   "source": [
    "df.info()"
   ]
  },
  {
   "cell_type": "code",
   "execution_count": 26,
   "id": "bc2bb527",
   "metadata": {},
   "outputs": [
    {
     "data": {
      "text/plain": [
       "0    4839\n",
       "1     249\n",
       "Name: stroke, dtype: int64"
      ]
     },
     "execution_count": 26,
     "metadata": {},
     "output_type": "execute_result"
    }
   ],
   "source": [
    "df['stroke'].value_counts()"
   ]
  },
  {
   "cell_type": "markdown",
   "id": "b99fea29",
   "metadata": {},
   "source": [
    "Balancing Unbalanced Dataset"
   ]
  },
  {
   "cell_type": "code",
   "execution_count": 27,
   "id": "c471ee41",
   "metadata": {},
   "outputs": [],
   "source": [
    "class_1 = df[df[\"stroke\"]==1]\n",
    "class_0 = df[df[\"stroke\"]==0]"
   ]
  },
  {
   "cell_type": "code",
   "execution_count": 28,
   "id": "588ac41a",
   "metadata": {},
   "outputs": [],
   "source": [
    "class_1_data = class_1\n",
    "class_0_data = class_0.sample(n=class_1.shape[0])"
   ]
  },
  {
   "cell_type": "code",
   "execution_count": 29,
   "id": "8e821037",
   "metadata": {},
   "outputs": [],
   "source": [
    "df = pd.concat([class_1_data,class_0_data])"
   ]
  },
  {
   "cell_type": "code",
   "execution_count": 30,
   "id": "3ad658fb",
   "metadata": {
    "execution": {
     "iopub.execute_input": "2021-10-04T16:27:05.373201Z",
     "iopub.status.busy": "2021-10-04T16:27:05.372504Z",
     "iopub.status.idle": "2021-10-04T16:27:05.376130Z",
     "shell.execute_reply": "2021-10-04T16:27:05.375701Z",
     "shell.execute_reply.started": "2021-10-04T16:19:14.477192Z"
    },
    "id": "54B3tMIgHYeR",
    "outputId": "ade7c37c-9e5f-42f9-c7b4-7d07dfe49524",
    "papermill": {
     "duration": 0.060245,
     "end_time": "2021-10-04T16:27:05.376235",
     "exception": false,
     "start_time": "2021-10-04T16:27:05.315990",
     "status": "completed"
    },
    "tags": []
   },
   "outputs": [
    {
     "data": {
      "text/plain": [
       "Female    294\n",
       "Male      204\n",
       "Name: gender, dtype: int64"
      ]
     },
     "execution_count": 30,
     "metadata": {},
     "output_type": "execute_result"
    }
   ],
   "source": [
    "df.gender.value_counts()"
   ]
  },
  {
   "cell_type": "code",
   "execution_count": 31,
   "id": "cae9a466",
   "metadata": {
    "execution": {
     "iopub.execute_input": "2021-10-04T16:27:05.485648Z",
     "iopub.status.busy": "2021-10-04T16:27:05.485104Z",
     "iopub.status.idle": "2021-10-04T16:27:05.491020Z",
     "shell.execute_reply": "2021-10-04T16:27:05.491376Z",
     "shell.execute_reply.started": "2021-10-04T16:19:14.487185Z"
    },
    "id": "-v6Nx0AaH8h7",
    "outputId": "b6e38221-436b-47a5-8dc7-2618dbf76a64",
    "papermill": {
     "duration": 0.064115,
     "end_time": "2021-10-04T16:27:05.491521",
     "exception": false,
     "start_time": "2021-10-04T16:27:05.427406",
     "status": "completed"
    },
    "tags": []
   },
   "outputs": [
    {
     "data": {
      "text/html": [
       "<div>\n",
       "<style scoped>\n",
       "    .dataframe tbody tr th:only-of-type {\n",
       "        vertical-align: middle;\n",
       "    }\n",
       "\n",
       "    .dataframe tbody tr th {\n",
       "        vertical-align: top;\n",
       "    }\n",
       "\n",
       "    .dataframe thead th {\n",
       "        text-align: right;\n",
       "    }\n",
       "</style>\n",
       "<table border=\"1\" class=\"dataframe\">\n",
       "  <thead>\n",
       "    <tr style=\"text-align: right;\">\n",
       "      <th></th>\n",
       "      <th>gender_Male</th>\n",
       "    </tr>\n",
       "  </thead>\n",
       "  <tbody>\n",
       "    <tr>\n",
       "      <th>0</th>\n",
       "      <td>1</td>\n",
       "    </tr>\n",
       "    <tr>\n",
       "      <th>1</th>\n",
       "      <td>0</td>\n",
       "    </tr>\n",
       "    <tr>\n",
       "      <th>2</th>\n",
       "      <td>1</td>\n",
       "    </tr>\n",
       "    <tr>\n",
       "      <th>3</th>\n",
       "      <td>0</td>\n",
       "    </tr>\n",
       "    <tr>\n",
       "      <th>4</th>\n",
       "      <td>0</td>\n",
       "    </tr>\n",
       "  </tbody>\n",
       "</table>\n",
       "</div>"
      ],
      "text/plain": [
       "   gender_Male\n",
       "0            1\n",
       "1            0\n",
       "2            1\n",
       "3            0\n",
       "4            0"
      ]
     },
     "execution_count": 31,
     "metadata": {},
     "output_type": "execute_result"
    }
   ],
   "source": [
    "gender = pd.get_dummies(df[['gender']],drop_first=True)\n",
    "gender.head()"
   ]
  },
  {
   "cell_type": "code",
   "execution_count": 32,
   "id": "b9bf9771",
   "metadata": {
    "execution": {
     "iopub.execute_input": "2021-10-04T16:27:05.603417Z",
     "iopub.status.busy": "2021-10-04T16:27:05.599118Z",
     "iopub.status.idle": "2021-10-04T16:27:05.607033Z",
     "shell.execute_reply": "2021-10-04T16:27:05.606547Z",
     "shell.execute_reply.started": "2021-10-04T16:19:14.502940Z"
    },
    "id": "vW6k564MISbq",
    "outputId": "2f266ccf-4ee2-466b-99b1-c0c35b136bcc",
    "papermill": {
     "duration": 0.06516,
     "end_time": "2021-10-04T16:27:05.607138",
     "exception": false,
     "start_time": "2021-10-04T16:27:05.541978",
     "status": "completed"
    },
    "tags": []
   },
   "outputs": [
    {
     "data": {
      "text/html": [
       "<div>\n",
       "<style scoped>\n",
       "    .dataframe tbody tr th:only-of-type {\n",
       "        vertical-align: middle;\n",
       "    }\n",
       "\n",
       "    .dataframe tbody tr th {\n",
       "        vertical-align: top;\n",
       "    }\n",
       "\n",
       "    .dataframe thead th {\n",
       "        text-align: right;\n",
       "    }\n",
       "</style>\n",
       "<table border=\"1\" class=\"dataframe\">\n",
       "  <thead>\n",
       "    <tr style=\"text-align: right;\">\n",
       "      <th></th>\n",
       "      <th>ever_married_Yes</th>\n",
       "    </tr>\n",
       "  </thead>\n",
       "  <tbody>\n",
       "    <tr>\n",
       "      <th>0</th>\n",
       "      <td>1</td>\n",
       "    </tr>\n",
       "    <tr>\n",
       "      <th>1</th>\n",
       "      <td>1</td>\n",
       "    </tr>\n",
       "    <tr>\n",
       "      <th>2</th>\n",
       "      <td>1</td>\n",
       "    </tr>\n",
       "    <tr>\n",
       "      <th>3</th>\n",
       "      <td>1</td>\n",
       "    </tr>\n",
       "    <tr>\n",
       "      <th>4</th>\n",
       "      <td>1</td>\n",
       "    </tr>\n",
       "  </tbody>\n",
       "</table>\n",
       "</div>"
      ],
      "text/plain": [
       "   ever_married_Yes\n",
       "0                 1\n",
       "1                 1\n",
       "2                 1\n",
       "3                 1\n",
       "4                 1"
      ]
     },
     "execution_count": 32,
     "metadata": {},
     "output_type": "execute_result"
    }
   ],
   "source": [
    "ever_married = pd.get_dummies(df[['ever_married']],drop_first=True)\n",
    "ever_married.head()"
   ]
  },
  {
   "cell_type": "code",
   "execution_count": 33,
   "id": "da4114b4",
   "metadata": {
    "execution": {
     "iopub.execute_input": "2021-10-04T16:27:05.724208Z",
     "iopub.status.busy": "2021-10-04T16:27:05.721191Z",
     "iopub.status.idle": "2021-10-04T16:27:05.727708Z",
     "shell.execute_reply": "2021-10-04T16:27:05.727300Z",
     "shell.execute_reply.started": "2021-10-04T16:19:14.516936Z"
    },
    "id": "AsonnonFIk-v",
    "outputId": "8a60052a-91cb-46f5-f090-c7fe755ef39a",
    "papermill": {
     "duration": 0.068084,
     "end_time": "2021-10-04T16:27:05.727810",
     "exception": false,
     "start_time": "2021-10-04T16:27:05.659726",
     "status": "completed"
    },
    "tags": []
   },
   "outputs": [
    {
     "data": {
      "text/html": [
       "<div>\n",
       "<style scoped>\n",
       "    .dataframe tbody tr th:only-of-type {\n",
       "        vertical-align: middle;\n",
       "    }\n",
       "\n",
       "    .dataframe tbody tr th {\n",
       "        vertical-align: top;\n",
       "    }\n",
       "\n",
       "    .dataframe thead th {\n",
       "        text-align: right;\n",
       "    }\n",
       "</style>\n",
       "<table border=\"1\" class=\"dataframe\">\n",
       "  <thead>\n",
       "    <tr style=\"text-align: right;\">\n",
       "      <th></th>\n",
       "      <th>work_type_Private</th>\n",
       "      <th>work_type_Self-employed</th>\n",
       "      <th>work_type_children</th>\n",
       "    </tr>\n",
       "  </thead>\n",
       "  <tbody>\n",
       "    <tr>\n",
       "      <th>0</th>\n",
       "      <td>1</td>\n",
       "      <td>0</td>\n",
       "      <td>0</td>\n",
       "    </tr>\n",
       "    <tr>\n",
       "      <th>1</th>\n",
       "      <td>0</td>\n",
       "      <td>1</td>\n",
       "      <td>0</td>\n",
       "    </tr>\n",
       "    <tr>\n",
       "      <th>2</th>\n",
       "      <td>1</td>\n",
       "      <td>0</td>\n",
       "      <td>0</td>\n",
       "    </tr>\n",
       "    <tr>\n",
       "      <th>3</th>\n",
       "      <td>1</td>\n",
       "      <td>0</td>\n",
       "      <td>0</td>\n",
       "    </tr>\n",
       "    <tr>\n",
       "      <th>4</th>\n",
       "      <td>0</td>\n",
       "      <td>1</td>\n",
       "      <td>0</td>\n",
       "    </tr>\n",
       "  </tbody>\n",
       "</table>\n",
       "</div>"
      ],
      "text/plain": [
       "   work_type_Private  work_type_Self-employed  work_type_children\n",
       "0                  1                        0                   0\n",
       "1                  0                        1                   0\n",
       "2                  1                        0                   0\n",
       "3                  1                        0                   0\n",
       "4                  0                        1                   0"
      ]
     },
     "execution_count": 33,
     "metadata": {},
     "output_type": "execute_result"
    }
   ],
   "source": [
    "work_type = pd.get_dummies(df[['work_type']],drop_first=True)\n",
    "work_type.head()"
   ]
  },
  {
   "cell_type": "code",
   "execution_count": 34,
   "id": "c9899d17",
   "metadata": {
    "execution": {
     "iopub.execute_input": "2021-10-04T16:27:05.838111Z",
     "iopub.status.busy": "2021-10-04T16:27:05.835136Z",
     "iopub.status.idle": "2021-10-04T16:27:05.847612Z",
     "shell.execute_reply": "2021-10-04T16:27:05.848201Z",
     "shell.execute_reply.started": "2021-10-04T16:19:14.530440Z"
    },
    "id": "vqYzV3uwIllr",
    "outputId": "92e2d6c6-fdc8-4293-9497-f101e3007057",
    "papermill": {
     "duration": 0.069132,
     "end_time": "2021-10-04T16:27:05.848370",
     "exception": false,
     "start_time": "2021-10-04T16:27:05.779238",
     "status": "completed"
    },
    "tags": []
   },
   "outputs": [
    {
     "data": {
      "text/html": [
       "<div>\n",
       "<style scoped>\n",
       "    .dataframe tbody tr th:only-of-type {\n",
       "        vertical-align: middle;\n",
       "    }\n",
       "\n",
       "    .dataframe tbody tr th {\n",
       "        vertical-align: top;\n",
       "    }\n",
       "\n",
       "    .dataframe thead th {\n",
       "        text-align: right;\n",
       "    }\n",
       "</style>\n",
       "<table border=\"1\" class=\"dataframe\">\n",
       "  <thead>\n",
       "    <tr style=\"text-align: right;\">\n",
       "      <th></th>\n",
       "      <th>Residence_type_Urban</th>\n",
       "    </tr>\n",
       "  </thead>\n",
       "  <tbody>\n",
       "    <tr>\n",
       "      <th>0</th>\n",
       "      <td>1</td>\n",
       "    </tr>\n",
       "    <tr>\n",
       "      <th>1</th>\n",
       "      <td>0</td>\n",
       "    </tr>\n",
       "    <tr>\n",
       "      <th>2</th>\n",
       "      <td>0</td>\n",
       "    </tr>\n",
       "    <tr>\n",
       "      <th>3</th>\n",
       "      <td>1</td>\n",
       "    </tr>\n",
       "    <tr>\n",
       "      <th>4</th>\n",
       "      <td>0</td>\n",
       "    </tr>\n",
       "  </tbody>\n",
       "</table>\n",
       "</div>"
      ],
      "text/plain": [
       "   Residence_type_Urban\n",
       "0                     1\n",
       "1                     0\n",
       "2                     0\n",
       "3                     1\n",
       "4                     0"
      ]
     },
     "execution_count": 34,
     "metadata": {},
     "output_type": "execute_result"
    }
   ],
   "source": [
    "Residence_type = pd.get_dummies(df[['Residence_type']],drop_first=True)\n",
    "Residence_type.head()"
   ]
  },
  {
   "cell_type": "code",
   "execution_count": 35,
   "id": "e198df98",
   "metadata": {
    "execution": {
     "iopub.execute_input": "2021-10-04T16:27:06.006480Z",
     "iopub.status.busy": "2021-10-04T16:27:06.005775Z",
     "iopub.status.idle": "2021-10-04T16:27:06.014045Z",
     "shell.execute_reply": "2021-10-04T16:27:06.014486Z",
     "shell.execute_reply.started": "2021-10-04T16:19:14.544503Z"
    },
    "id": "DpGs-_PcIl6c",
    "outputId": "17c5184e-3f8b-47d4-8fa3-64a950b2706e",
    "papermill": {
     "duration": 0.090858,
     "end_time": "2021-10-04T16:27:06.014657",
     "exception": false,
     "start_time": "2021-10-04T16:27:05.923799",
     "status": "completed"
    },
    "tags": []
   },
   "outputs": [
    {
     "data": {
      "text/html": [
       "<div>\n",
       "<style scoped>\n",
       "    .dataframe tbody tr th:only-of-type {\n",
       "        vertical-align: middle;\n",
       "    }\n",
       "\n",
       "    .dataframe tbody tr th {\n",
       "        vertical-align: top;\n",
       "    }\n",
       "\n",
       "    .dataframe thead th {\n",
       "        text-align: right;\n",
       "    }\n",
       "</style>\n",
       "<table border=\"1\" class=\"dataframe\">\n",
       "  <thead>\n",
       "    <tr style=\"text-align: right;\">\n",
       "      <th></th>\n",
       "      <th>smoking_status_formerly smoked</th>\n",
       "      <th>smoking_status_never smoked</th>\n",
       "      <th>smoking_status_smokes</th>\n",
       "    </tr>\n",
       "  </thead>\n",
       "  <tbody>\n",
       "    <tr>\n",
       "      <th>0</th>\n",
       "      <td>1</td>\n",
       "      <td>0</td>\n",
       "      <td>0</td>\n",
       "    </tr>\n",
       "    <tr>\n",
       "      <th>1</th>\n",
       "      <td>0</td>\n",
       "      <td>1</td>\n",
       "      <td>0</td>\n",
       "    </tr>\n",
       "    <tr>\n",
       "      <th>2</th>\n",
       "      <td>0</td>\n",
       "      <td>1</td>\n",
       "      <td>0</td>\n",
       "    </tr>\n",
       "    <tr>\n",
       "      <th>3</th>\n",
       "      <td>0</td>\n",
       "      <td>0</td>\n",
       "      <td>1</td>\n",
       "    </tr>\n",
       "    <tr>\n",
       "      <th>4</th>\n",
       "      <td>0</td>\n",
       "      <td>1</td>\n",
       "      <td>0</td>\n",
       "    </tr>\n",
       "  </tbody>\n",
       "</table>\n",
       "</div>"
      ],
      "text/plain": [
       "   smoking_status_formerly smoked  smoking_status_never smoked  \\\n",
       "0                               1                            0   \n",
       "1                               0                            1   \n",
       "2                               0                            1   \n",
       "3                               0                            0   \n",
       "4                               0                            1   \n",
       "\n",
       "   smoking_status_smokes  \n",
       "0                      0  \n",
       "1                      0  \n",
       "2                      0  \n",
       "3                      1  \n",
       "4                      0  "
      ]
     },
     "execution_count": 35,
     "metadata": {},
     "output_type": "execute_result"
    }
   ],
   "source": [
    "smoking_status = pd.get_dummies(df[['smoking_status']],drop_first=True)\n",
    "smoking_status.head()"
   ]
  },
  {
   "cell_type": "code",
   "execution_count": 36,
   "id": "bfed8f15",
   "metadata": {
    "execution": {
     "iopub.execute_input": "2021-10-04T16:27:06.131088Z",
     "iopub.status.busy": "2021-10-04T16:27:06.130392Z",
     "iopub.status.idle": "2021-10-04T16:27:06.148228Z",
     "shell.execute_reply": "2021-10-04T16:27:06.148595Z",
     "shell.execute_reply.started": "2021-10-04T16:19:14.559088Z"
    },
    "id": "33UhwBK5ImNk",
    "outputId": "4d4c9dbe-ee95-4403-bbaa-838e34171b71",
    "papermill": {
     "duration": 0.081301,
     "end_time": "2021-10-04T16:27:06.148740",
     "exception": false,
     "start_time": "2021-10-04T16:27:06.067439",
     "status": "completed"
    },
    "tags": []
   },
   "outputs": [
    {
     "data": {
      "text/html": [
       "<div>\n",
       "<style scoped>\n",
       "    .dataframe tbody tr th:only-of-type {\n",
       "        vertical-align: middle;\n",
       "    }\n",
       "\n",
       "    .dataframe tbody tr th {\n",
       "        vertical-align: top;\n",
       "    }\n",
       "\n",
       "    .dataframe thead th {\n",
       "        text-align: right;\n",
       "    }\n",
       "</style>\n",
       "<table border=\"1\" class=\"dataframe\">\n",
       "  <thead>\n",
       "    <tr style=\"text-align: right;\">\n",
       "      <th></th>\n",
       "      <th>id</th>\n",
       "      <th>gender</th>\n",
       "      <th>age</th>\n",
       "      <th>hypertension</th>\n",
       "      <th>heart_disease</th>\n",
       "      <th>ever_married</th>\n",
       "      <th>work_type</th>\n",
       "      <th>Residence_type</th>\n",
       "      <th>avg_glucose_level</th>\n",
       "      <th>bmi</th>\n",
       "      <th>...</th>\n",
       "      <th>stroke</th>\n",
       "      <th>gender_Male</th>\n",
       "      <th>ever_married_Yes</th>\n",
       "      <th>work_type_Private</th>\n",
       "      <th>work_type_Self-employed</th>\n",
       "      <th>work_type_children</th>\n",
       "      <th>Residence_type_Urban</th>\n",
       "      <th>smoking_status_formerly smoked</th>\n",
       "      <th>smoking_status_never smoked</th>\n",
       "      <th>smoking_status_smokes</th>\n",
       "    </tr>\n",
       "  </thead>\n",
       "  <tbody>\n",
       "    <tr>\n",
       "      <th>0</th>\n",
       "      <td>9046</td>\n",
       "      <td>Male</td>\n",
       "      <td>67.0</td>\n",
       "      <td>0</td>\n",
       "      <td>1</td>\n",
       "      <td>Yes</td>\n",
       "      <td>Private</td>\n",
       "      <td>Urban</td>\n",
       "      <td>228.69</td>\n",
       "      <td>36.600000</td>\n",
       "      <td>...</td>\n",
       "      <td>1</td>\n",
       "      <td>1</td>\n",
       "      <td>1</td>\n",
       "      <td>1</td>\n",
       "      <td>0</td>\n",
       "      <td>0</td>\n",
       "      <td>1</td>\n",
       "      <td>1</td>\n",
       "      <td>0</td>\n",
       "      <td>0</td>\n",
       "    </tr>\n",
       "    <tr>\n",
       "      <th>1</th>\n",
       "      <td>51676</td>\n",
       "      <td>Female</td>\n",
       "      <td>61.0</td>\n",
       "      <td>0</td>\n",
       "      <td>0</td>\n",
       "      <td>Yes</td>\n",
       "      <td>Self-employed</td>\n",
       "      <td>Rural</td>\n",
       "      <td>202.21</td>\n",
       "      <td>28.893237</td>\n",
       "      <td>...</td>\n",
       "      <td>1</td>\n",
       "      <td>0</td>\n",
       "      <td>1</td>\n",
       "      <td>0</td>\n",
       "      <td>1</td>\n",
       "      <td>0</td>\n",
       "      <td>0</td>\n",
       "      <td>0</td>\n",
       "      <td>1</td>\n",
       "      <td>0</td>\n",
       "    </tr>\n",
       "    <tr>\n",
       "      <th>2</th>\n",
       "      <td>31112</td>\n",
       "      <td>Male</td>\n",
       "      <td>80.0</td>\n",
       "      <td>0</td>\n",
       "      <td>1</td>\n",
       "      <td>Yes</td>\n",
       "      <td>Private</td>\n",
       "      <td>Rural</td>\n",
       "      <td>105.92</td>\n",
       "      <td>32.500000</td>\n",
       "      <td>...</td>\n",
       "      <td>1</td>\n",
       "      <td>1</td>\n",
       "      <td>1</td>\n",
       "      <td>1</td>\n",
       "      <td>0</td>\n",
       "      <td>0</td>\n",
       "      <td>0</td>\n",
       "      <td>0</td>\n",
       "      <td>1</td>\n",
       "      <td>0</td>\n",
       "    </tr>\n",
       "    <tr>\n",
       "      <th>3</th>\n",
       "      <td>60182</td>\n",
       "      <td>Female</td>\n",
       "      <td>49.0</td>\n",
       "      <td>0</td>\n",
       "      <td>0</td>\n",
       "      <td>Yes</td>\n",
       "      <td>Private</td>\n",
       "      <td>Urban</td>\n",
       "      <td>171.23</td>\n",
       "      <td>34.400000</td>\n",
       "      <td>...</td>\n",
       "      <td>1</td>\n",
       "      <td>0</td>\n",
       "      <td>1</td>\n",
       "      <td>1</td>\n",
       "      <td>0</td>\n",
       "      <td>0</td>\n",
       "      <td>1</td>\n",
       "      <td>0</td>\n",
       "      <td>0</td>\n",
       "      <td>1</td>\n",
       "    </tr>\n",
       "    <tr>\n",
       "      <th>4</th>\n",
       "      <td>1665</td>\n",
       "      <td>Female</td>\n",
       "      <td>79.0</td>\n",
       "      <td>1</td>\n",
       "      <td>0</td>\n",
       "      <td>Yes</td>\n",
       "      <td>Self-employed</td>\n",
       "      <td>Rural</td>\n",
       "      <td>174.12</td>\n",
       "      <td>24.000000</td>\n",
       "      <td>...</td>\n",
       "      <td>1</td>\n",
       "      <td>0</td>\n",
       "      <td>1</td>\n",
       "      <td>0</td>\n",
       "      <td>1</td>\n",
       "      <td>0</td>\n",
       "      <td>0</td>\n",
       "      <td>0</td>\n",
       "      <td>1</td>\n",
       "      <td>0</td>\n",
       "    </tr>\n",
       "  </tbody>\n",
       "</table>\n",
       "<p>5 rows × 21 columns</p>\n",
       "</div>"
      ],
      "text/plain": [
       "      id  gender   age  hypertension  heart_disease ever_married  \\\n",
       "0   9046    Male  67.0             0              1          Yes   \n",
       "1  51676  Female  61.0             0              0          Yes   \n",
       "2  31112    Male  80.0             0              1          Yes   \n",
       "3  60182  Female  49.0             0              0          Yes   \n",
       "4   1665  Female  79.0             1              0          Yes   \n",
       "\n",
       "       work_type Residence_type  avg_glucose_level        bmi  ... stroke  \\\n",
       "0        Private          Urban             228.69  36.600000  ...      1   \n",
       "1  Self-employed          Rural             202.21  28.893237  ...      1   \n",
       "2        Private          Rural             105.92  32.500000  ...      1   \n",
       "3        Private          Urban             171.23  34.400000  ...      1   \n",
       "4  Self-employed          Rural             174.12  24.000000  ...      1   \n",
       "\n",
       "   gender_Male  ever_married_Yes  work_type_Private  work_type_Self-employed  \\\n",
       "0            1                 1                  1                        0   \n",
       "1            0                 1                  0                        1   \n",
       "2            1                 1                  1                        0   \n",
       "3            0                 1                  1                        0   \n",
       "4            0                 1                  0                        1   \n",
       "\n",
       "   work_type_children  Residence_type_Urban  smoking_status_formerly smoked  \\\n",
       "0                   0                     1                               1   \n",
       "1                   0                     0                               0   \n",
       "2                   0                     0                               0   \n",
       "3                   0                     1                               0   \n",
       "4                   0                     0                               0   \n",
       "\n",
       "   smoking_status_never smoked  smoking_status_smokes  \n",
       "0                            0                      0  \n",
       "1                            1                      0  \n",
       "2                            1                      0  \n",
       "3                            0                      1  \n",
       "4                            1                      0  \n",
       "\n",
       "[5 rows x 21 columns]"
      ]
     },
     "execution_count": 36,
     "metadata": {},
     "output_type": "execute_result"
    }
   ],
   "source": [
    "data=pd.concat([df,gender,ever_married,work_type,Residence_type,smoking_status],axis=1)\n",
    "data.head()"
   ]
  },
  {
   "cell_type": "code",
   "execution_count": 37,
   "id": "afadda4e",
   "metadata": {
    "execution": {
     "iopub.execute_input": "2021-10-04T16:27:06.258738Z",
     "iopub.status.busy": "2021-10-04T16:27:06.258222Z",
     "iopub.status.idle": "2021-10-04T16:27:06.276050Z",
     "shell.execute_reply": "2021-10-04T16:27:06.276441Z",
     "shell.execute_reply.started": "2021-10-04T16:19:14.583144Z"
    },
    "id": "8r3xW3o4MuCq",
    "outputId": "8f623b1a-b1e1-4037-963b-1a905bd2fc4c",
    "papermill": {
     "duration": 0.075799,
     "end_time": "2021-10-04T16:27:06.276589",
     "exception": false,
     "start_time": "2021-10-04T16:27:06.200790",
     "status": "completed"
    },
    "tags": []
   },
   "outputs": [
    {
     "data": {
      "text/html": [
       "<div>\n",
       "<style scoped>\n",
       "    .dataframe tbody tr th:only-of-type {\n",
       "        vertical-align: middle;\n",
       "    }\n",
       "\n",
       "    .dataframe tbody tr th {\n",
       "        vertical-align: top;\n",
       "    }\n",
       "\n",
       "    .dataframe thead th {\n",
       "        text-align: right;\n",
       "    }\n",
       "</style>\n",
       "<table border=\"1\" class=\"dataframe\">\n",
       "  <thead>\n",
       "    <tr style=\"text-align: right;\">\n",
       "      <th></th>\n",
       "      <th>id</th>\n",
       "      <th>age</th>\n",
       "      <th>hypertension</th>\n",
       "      <th>heart_disease</th>\n",
       "      <th>avg_glucose_level</th>\n",
       "      <th>bmi</th>\n",
       "      <th>stroke</th>\n",
       "      <th>gender_Male</th>\n",
       "      <th>ever_married_Yes</th>\n",
       "      <th>work_type_Private</th>\n",
       "      <th>work_type_Self-employed</th>\n",
       "      <th>work_type_children</th>\n",
       "      <th>Residence_type_Urban</th>\n",
       "      <th>smoking_status_formerly smoked</th>\n",
       "      <th>smoking_status_never smoked</th>\n",
       "      <th>smoking_status_smokes</th>\n",
       "    </tr>\n",
       "  </thead>\n",
       "  <tbody>\n",
       "    <tr>\n",
       "      <th>0</th>\n",
       "      <td>9046</td>\n",
       "      <td>67.0</td>\n",
       "      <td>0</td>\n",
       "      <td>1</td>\n",
       "      <td>228.69</td>\n",
       "      <td>36.600000</td>\n",
       "      <td>1</td>\n",
       "      <td>1</td>\n",
       "      <td>1</td>\n",
       "      <td>1</td>\n",
       "      <td>0</td>\n",
       "      <td>0</td>\n",
       "      <td>1</td>\n",
       "      <td>1</td>\n",
       "      <td>0</td>\n",
       "      <td>0</td>\n",
       "    </tr>\n",
       "    <tr>\n",
       "      <th>1</th>\n",
       "      <td>51676</td>\n",
       "      <td>61.0</td>\n",
       "      <td>0</td>\n",
       "      <td>0</td>\n",
       "      <td>202.21</td>\n",
       "      <td>28.893237</td>\n",
       "      <td>1</td>\n",
       "      <td>0</td>\n",
       "      <td>1</td>\n",
       "      <td>0</td>\n",
       "      <td>1</td>\n",
       "      <td>0</td>\n",
       "      <td>0</td>\n",
       "      <td>0</td>\n",
       "      <td>1</td>\n",
       "      <td>0</td>\n",
       "    </tr>\n",
       "    <tr>\n",
       "      <th>2</th>\n",
       "      <td>31112</td>\n",
       "      <td>80.0</td>\n",
       "      <td>0</td>\n",
       "      <td>1</td>\n",
       "      <td>105.92</td>\n",
       "      <td>32.500000</td>\n",
       "      <td>1</td>\n",
       "      <td>1</td>\n",
       "      <td>1</td>\n",
       "      <td>1</td>\n",
       "      <td>0</td>\n",
       "      <td>0</td>\n",
       "      <td>0</td>\n",
       "      <td>0</td>\n",
       "      <td>1</td>\n",
       "      <td>0</td>\n",
       "    </tr>\n",
       "    <tr>\n",
       "      <th>3</th>\n",
       "      <td>60182</td>\n",
       "      <td>49.0</td>\n",
       "      <td>0</td>\n",
       "      <td>0</td>\n",
       "      <td>171.23</td>\n",
       "      <td>34.400000</td>\n",
       "      <td>1</td>\n",
       "      <td>0</td>\n",
       "      <td>1</td>\n",
       "      <td>1</td>\n",
       "      <td>0</td>\n",
       "      <td>0</td>\n",
       "      <td>1</td>\n",
       "      <td>0</td>\n",
       "      <td>0</td>\n",
       "      <td>1</td>\n",
       "    </tr>\n",
       "    <tr>\n",
       "      <th>4</th>\n",
       "      <td>1665</td>\n",
       "      <td>79.0</td>\n",
       "      <td>1</td>\n",
       "      <td>0</td>\n",
       "      <td>174.12</td>\n",
       "      <td>24.000000</td>\n",
       "      <td>1</td>\n",
       "      <td>0</td>\n",
       "      <td>1</td>\n",
       "      <td>0</td>\n",
       "      <td>1</td>\n",
       "      <td>0</td>\n",
       "      <td>0</td>\n",
       "      <td>0</td>\n",
       "      <td>1</td>\n",
       "      <td>0</td>\n",
       "    </tr>\n",
       "  </tbody>\n",
       "</table>\n",
       "</div>"
      ],
      "text/plain": [
       "      id   age  hypertension  heart_disease  avg_glucose_level        bmi  \\\n",
       "0   9046  67.0             0              1             228.69  36.600000   \n",
       "1  51676  61.0             0              0             202.21  28.893237   \n",
       "2  31112  80.0             0              1             105.92  32.500000   \n",
       "3  60182  49.0             0              0             171.23  34.400000   \n",
       "4   1665  79.0             1              0             174.12  24.000000   \n",
       "\n",
       "   stroke  gender_Male  ever_married_Yes  work_type_Private  \\\n",
       "0       1            1                 1                  1   \n",
       "1       1            0                 1                  0   \n",
       "2       1            1                 1                  1   \n",
       "3       1            0                 1                  1   \n",
       "4       1            0                 1                  0   \n",
       "\n",
       "   work_type_Self-employed  work_type_children  Residence_type_Urban  \\\n",
       "0                        0                   0                     1   \n",
       "1                        1                   0                     0   \n",
       "2                        0                   0                     0   \n",
       "3                        0                   0                     1   \n",
       "4                        1                   0                     0   \n",
       "\n",
       "   smoking_status_formerly smoked  smoking_status_never smoked  \\\n",
       "0                               1                            0   \n",
       "1                               0                            1   \n",
       "2                               0                            1   \n",
       "3                               0                            0   \n",
       "4                               0                            1   \n",
       "\n",
       "   smoking_status_smokes  \n",
       "0                      0  \n",
       "1                      0  \n",
       "2                      0  \n",
       "3                      1  \n",
       "4                      0  "
      ]
     },
     "execution_count": 37,
     "metadata": {},
     "output_type": "execute_result"
    }
   ],
   "source": [
    "data = data.drop(columns=['gender','ever_married','work_type','Residence_type','smoking_status'],axis=1)\n",
    "data.head()"
   ]
  },
  {
   "cell_type": "code",
   "execution_count": 38,
   "id": "d2033914",
   "metadata": {
    "execution": {
     "iopub.execute_input": "2021-10-04T16:27:06.396015Z",
     "iopub.status.busy": "2021-10-04T16:27:06.385517Z",
     "iopub.status.idle": "2021-10-04T16:27:06.399444Z",
     "shell.execute_reply": "2021-10-04T16:27:06.398961Z",
     "shell.execute_reply.started": "2021-10-04T16:19:14.601208Z"
    },
    "id": "7XjCZM18NQXB",
    "outputId": "9f2d321b-0abc-4b84-c228-89946751a46c",
    "papermill": {
     "duration": 0.071514,
     "end_time": "2021-10-04T16:27:06.399552",
     "exception": false,
     "start_time": "2021-10-04T16:27:06.328038",
     "status": "completed"
    },
    "tags": []
   },
   "outputs": [
    {
     "data": {
      "text/html": [
       "<div>\n",
       "<style scoped>\n",
       "    .dataframe tbody tr th:only-of-type {\n",
       "        vertical-align: middle;\n",
       "    }\n",
       "\n",
       "    .dataframe tbody tr th {\n",
       "        vertical-align: top;\n",
       "    }\n",
       "\n",
       "    .dataframe thead th {\n",
       "        text-align: right;\n",
       "    }\n",
       "</style>\n",
       "<table border=\"1\" class=\"dataframe\">\n",
       "  <thead>\n",
       "    <tr style=\"text-align: right;\">\n",
       "      <th></th>\n",
       "      <th>age</th>\n",
       "      <th>hypertension</th>\n",
       "      <th>heart_disease</th>\n",
       "      <th>avg_glucose_level</th>\n",
       "      <th>bmi</th>\n",
       "      <th>stroke</th>\n",
       "      <th>gender_Male</th>\n",
       "      <th>ever_married_Yes</th>\n",
       "      <th>work_type_Private</th>\n",
       "      <th>work_type_Self-employed</th>\n",
       "      <th>work_type_children</th>\n",
       "      <th>Residence_type_Urban</th>\n",
       "      <th>smoking_status_formerly smoked</th>\n",
       "      <th>smoking_status_never smoked</th>\n",
       "      <th>smoking_status_smokes</th>\n",
       "    </tr>\n",
       "  </thead>\n",
       "  <tbody>\n",
       "    <tr>\n",
       "      <th>0</th>\n",
       "      <td>67.0</td>\n",
       "      <td>0</td>\n",
       "      <td>1</td>\n",
       "      <td>228.69</td>\n",
       "      <td>36.600000</td>\n",
       "      <td>1</td>\n",
       "      <td>1</td>\n",
       "      <td>1</td>\n",
       "      <td>1</td>\n",
       "      <td>0</td>\n",
       "      <td>0</td>\n",
       "      <td>1</td>\n",
       "      <td>1</td>\n",
       "      <td>0</td>\n",
       "      <td>0</td>\n",
       "    </tr>\n",
       "    <tr>\n",
       "      <th>1</th>\n",
       "      <td>61.0</td>\n",
       "      <td>0</td>\n",
       "      <td>0</td>\n",
       "      <td>202.21</td>\n",
       "      <td>28.893237</td>\n",
       "      <td>1</td>\n",
       "      <td>0</td>\n",
       "      <td>1</td>\n",
       "      <td>0</td>\n",
       "      <td>1</td>\n",
       "      <td>0</td>\n",
       "      <td>0</td>\n",
       "      <td>0</td>\n",
       "      <td>1</td>\n",
       "      <td>0</td>\n",
       "    </tr>\n",
       "    <tr>\n",
       "      <th>2</th>\n",
       "      <td>80.0</td>\n",
       "      <td>0</td>\n",
       "      <td>1</td>\n",
       "      <td>105.92</td>\n",
       "      <td>32.500000</td>\n",
       "      <td>1</td>\n",
       "      <td>1</td>\n",
       "      <td>1</td>\n",
       "      <td>1</td>\n",
       "      <td>0</td>\n",
       "      <td>0</td>\n",
       "      <td>0</td>\n",
       "      <td>0</td>\n",
       "      <td>1</td>\n",
       "      <td>0</td>\n",
       "    </tr>\n",
       "    <tr>\n",
       "      <th>3</th>\n",
       "      <td>49.0</td>\n",
       "      <td>0</td>\n",
       "      <td>0</td>\n",
       "      <td>171.23</td>\n",
       "      <td>34.400000</td>\n",
       "      <td>1</td>\n",
       "      <td>0</td>\n",
       "      <td>1</td>\n",
       "      <td>1</td>\n",
       "      <td>0</td>\n",
       "      <td>0</td>\n",
       "      <td>1</td>\n",
       "      <td>0</td>\n",
       "      <td>0</td>\n",
       "      <td>1</td>\n",
       "    </tr>\n",
       "    <tr>\n",
       "      <th>4</th>\n",
       "      <td>79.0</td>\n",
       "      <td>1</td>\n",
       "      <td>0</td>\n",
       "      <td>174.12</td>\n",
       "      <td>24.000000</td>\n",
       "      <td>1</td>\n",
       "      <td>0</td>\n",
       "      <td>1</td>\n",
       "      <td>0</td>\n",
       "      <td>1</td>\n",
       "      <td>0</td>\n",
       "      <td>0</td>\n",
       "      <td>0</td>\n",
       "      <td>1</td>\n",
       "      <td>0</td>\n",
       "    </tr>\n",
       "  </tbody>\n",
       "</table>\n",
       "</div>"
      ],
      "text/plain": [
       "    age  hypertension  heart_disease  avg_glucose_level        bmi  stroke  \\\n",
       "0  67.0             0              1             228.69  36.600000       1   \n",
       "1  61.0             0              0             202.21  28.893237       1   \n",
       "2  80.0             0              1             105.92  32.500000       1   \n",
       "3  49.0             0              0             171.23  34.400000       1   \n",
       "4  79.0             1              0             174.12  24.000000       1   \n",
       "\n",
       "   gender_Male  ever_married_Yes  work_type_Private  work_type_Self-employed  \\\n",
       "0            1                 1                  1                        0   \n",
       "1            0                 1                  0                        1   \n",
       "2            1                 1                  1                        0   \n",
       "3            0                 1                  1                        0   \n",
       "4            0                 1                  0                        1   \n",
       "\n",
       "   work_type_children  Residence_type_Urban  smoking_status_formerly smoked  \\\n",
       "0                   0                     1                               1   \n",
       "1                   0                     0                               0   \n",
       "2                   0                     0                               0   \n",
       "3                   0                     1                               0   \n",
       "4                   0                     0                               0   \n",
       "\n",
       "   smoking_status_never smoked  smoking_status_smokes  \n",
       "0                            0                      0  \n",
       "1                            1                      0  \n",
       "2                            1                      0  \n",
       "3                            0                      1  \n",
       "4                            1                      0  "
      ]
     },
     "execution_count": 38,
     "metadata": {},
     "output_type": "execute_result"
    }
   ],
   "source": [
    "data = data.drop(columns=['id'])\n",
    "data.head()"
   ]
  },
  {
   "cell_type": "code",
   "execution_count": 39,
   "id": "3514cf45",
   "metadata": {
    "execution": {
     "iopub.execute_input": "2021-10-04T16:27:06.512653Z",
     "iopub.status.busy": "2021-10-04T16:27:06.512131Z",
     "iopub.status.idle": "2021-10-04T16:27:06.536521Z",
     "shell.execute_reply": "2021-10-04T16:27:06.537043Z",
     "shell.execute_reply.started": "2021-10-04T16:19:14.618310Z"
    },
    "id": "1-Ms7CGX0b28",
    "outputId": "6e171d5a-e539-43e2-d8a9-b78c68916cf9",
    "papermill": {
     "duration": 0.083438,
     "end_time": "2021-10-04T16:27:06.537206",
     "exception": false,
     "start_time": "2021-10-04T16:27:06.453768",
     "status": "completed"
    },
    "tags": []
   },
   "outputs": [
    {
     "data": {
      "text/html": [
       "<div>\n",
       "<style scoped>\n",
       "    .dataframe tbody tr th:only-of-type {\n",
       "        vertical-align: middle;\n",
       "    }\n",
       "\n",
       "    .dataframe tbody tr th {\n",
       "        vertical-align: top;\n",
       "    }\n",
       "\n",
       "    .dataframe thead th {\n",
       "        text-align: right;\n",
       "    }\n",
       "</style>\n",
       "<table border=\"1\" class=\"dataframe\">\n",
       "  <thead>\n",
       "    <tr style=\"text-align: right;\">\n",
       "      <th></th>\n",
       "      <th>age</th>\n",
       "      <th>hypertension</th>\n",
       "      <th>heart_disease</th>\n",
       "      <th>avg_glucose_level</th>\n",
       "      <th>bmi</th>\n",
       "      <th>stroke</th>\n",
       "      <th>gender_Male</th>\n",
       "      <th>ever_married_Yes</th>\n",
       "      <th>work_type_Private</th>\n",
       "      <th>work_type_Self-employed</th>\n",
       "      <th>work_type_children</th>\n",
       "      <th>Residence_type_Urban</th>\n",
       "      <th>smoking_status_formerly smoked</th>\n",
       "      <th>smoking_status_never smoked</th>\n",
       "      <th>smoking_status_smokes</th>\n",
       "    </tr>\n",
       "  </thead>\n",
       "  <tbody>\n",
       "    <tr>\n",
       "      <th>age</th>\n",
       "      <td>1.000000</td>\n",
       "      <td>0.292581</td>\n",
       "      <td>0.265034</td>\n",
       "      <td>0.277942</td>\n",
       "      <td>0.267526</td>\n",
       "      <td>0.597024</td>\n",
       "      <td>0.002255</td>\n",
       "      <td>0.609941</td>\n",
       "      <td>0.067157</td>\n",
       "      <td>0.312768</td>\n",
       "      <td>-0.643868</td>\n",
       "      <td>0.062989</td>\n",
       "      <td>0.220024</td>\n",
       "      <td>0.175853</td>\n",
       "      <td>-0.004436</td>\n",
       "    </tr>\n",
       "    <tr>\n",
       "      <th>hypertension</th>\n",
       "      <td>0.292581</td>\n",
       "      <td>1.000000</td>\n",
       "      <td>0.069065</td>\n",
       "      <td>0.172504</td>\n",
       "      <td>0.156726</td>\n",
       "      <td>0.270718</td>\n",
       "      <td>0.004510</td>\n",
       "      <td>0.116169</td>\n",
       "      <td>-0.070408</td>\n",
       "      <td>0.208528</td>\n",
       "      <td>-0.141635</td>\n",
       "      <td>-0.028588</td>\n",
       "      <td>0.072079</td>\n",
       "      <td>0.141342</td>\n",
       "      <td>-0.005289</td>\n",
       "    </tr>\n",
       "    <tr>\n",
       "      <th>heart_disease</th>\n",
       "      <td>0.265034</td>\n",
       "      <td>0.069065</td>\n",
       "      <td>1.000000</td>\n",
       "      <td>0.203468</td>\n",
       "      <td>0.049494</td>\n",
       "      <td>0.172861</td>\n",
       "      <td>0.089374</td>\n",
       "      <td>0.097501</td>\n",
       "      <td>0.017015</td>\n",
       "      <td>0.022211</td>\n",
       "      <td>-0.123601</td>\n",
       "      <td>0.004918</td>\n",
       "      <td>-0.008830</td>\n",
       "      <td>-0.016937</td>\n",
       "      <td>0.153507</td>\n",
       "    </tr>\n",
       "    <tr>\n",
       "      <th>avg_glucose_level</th>\n",
       "      <td>0.277942</td>\n",
       "      <td>0.172504</td>\n",
       "      <td>0.203468</td>\n",
       "      <td>1.000000</td>\n",
       "      <td>0.295487</td>\n",
       "      <td>0.199494</td>\n",
       "      <td>0.084726</td>\n",
       "      <td>0.232298</td>\n",
       "      <td>0.020828</td>\n",
       "      <td>0.023102</td>\n",
       "      <td>-0.140294</td>\n",
       "      <td>0.013094</td>\n",
       "      <td>0.072406</td>\n",
       "      <td>0.059054</td>\n",
       "      <td>0.013467</td>\n",
       "    </tr>\n",
       "    <tr>\n",
       "      <th>bmi</th>\n",
       "      <td>0.267526</td>\n",
       "      <td>0.156726</td>\n",
       "      <td>0.049494</td>\n",
       "      <td>0.295487</td>\n",
       "      <td>1.000000</td>\n",
       "      <td>0.165334</td>\n",
       "      <td>-0.029294</td>\n",
       "      <td>0.321997</td>\n",
       "      <td>0.173579</td>\n",
       "      <td>0.037608</td>\n",
       "      <td>-0.400415</td>\n",
       "      <td>0.028668</td>\n",
       "      <td>0.104949</td>\n",
       "      <td>0.092657</td>\n",
       "      <td>0.067535</td>\n",
       "    </tr>\n",
       "    <tr>\n",
       "      <th>stroke</th>\n",
       "      <td>0.597024</td>\n",
       "      <td>0.270718</td>\n",
       "      <td>0.172861</td>\n",
       "      <td>0.199494</td>\n",
       "      <td>0.165334</td>\n",
       "      <td>1.000000</td>\n",
       "      <td>0.049000</td>\n",
       "      <td>0.302653</td>\n",
       "      <td>0.040663</td>\n",
       "      <td>0.173073</td>\n",
       "      <td>-0.291274</td>\n",
       "      <td>0.020122</td>\n",
       "      <td>0.134665</td>\n",
       "      <td>0.004185</td>\n",
       "      <td>0.050529</td>\n",
       "    </tr>\n",
       "    <tr>\n",
       "      <th>gender_Male</th>\n",
       "      <td>0.002255</td>\n",
       "      <td>0.004510</td>\n",
       "      <td>0.089374</td>\n",
       "      <td>0.084726</td>\n",
       "      <td>-0.029294</td>\n",
       "      <td>0.049000</td>\n",
       "      <td>1.000000</td>\n",
       "      <td>0.013119</td>\n",
       "      <td>0.025005</td>\n",
       "      <td>-0.044772</td>\n",
       "      <td>0.044516</td>\n",
       "      <td>-0.012719</td>\n",
       "      <td>0.098978</td>\n",
       "      <td>-0.172964</td>\n",
       "      <td>0.083080</td>\n",
       "    </tr>\n",
       "    <tr>\n",
       "      <th>ever_married_Yes</th>\n",
       "      <td>0.609941</td>\n",
       "      <td>0.116169</td>\n",
       "      <td>0.097501</td>\n",
       "      <td>0.232298</td>\n",
       "      <td>0.321997</td>\n",
       "      <td>0.302653</td>\n",
       "      <td>0.013119</td>\n",
       "      <td>1.000000</td>\n",
       "      <td>0.123824</td>\n",
       "      <td>0.185444</td>\n",
       "      <td>-0.557023</td>\n",
       "      <td>-0.033111</td>\n",
       "      <td>0.185824</td>\n",
       "      <td>0.128195</td>\n",
       "      <td>0.084934</td>\n",
       "    </tr>\n",
       "    <tr>\n",
       "      <th>work_type_Private</th>\n",
       "      <td>0.067157</td>\n",
       "      <td>-0.070408</td>\n",
       "      <td>0.017015</td>\n",
       "      <td>0.020828</td>\n",
       "      <td>0.173579</td>\n",
       "      <td>0.040663</td>\n",
       "      <td>0.025005</td>\n",
       "      <td>0.123824</td>\n",
       "      <td>1.000000</td>\n",
       "      <td>-0.572281</td>\n",
       "      <td>-0.373591</td>\n",
       "      <td>0.006087</td>\n",
       "      <td>-0.017249</td>\n",
       "      <td>0.021032</td>\n",
       "      <td>0.120813</td>\n",
       "    </tr>\n",
       "    <tr>\n",
       "      <th>work_type_Self-employed</th>\n",
       "      <td>0.312768</td>\n",
       "      <td>0.208528</td>\n",
       "      <td>0.022211</td>\n",
       "      <td>0.023102</td>\n",
       "      <td>0.037608</td>\n",
       "      <td>0.173073</td>\n",
       "      <td>-0.044772</td>\n",
       "      <td>0.185444</td>\n",
       "      <td>-0.572281</td>\n",
       "      <td>1.000000</td>\n",
       "      <td>-0.155895</td>\n",
       "      <td>-0.011062</td>\n",
       "      <td>0.090339</td>\n",
       "      <td>0.079501</td>\n",
       "      <td>-0.020749</td>\n",
       "    </tr>\n",
       "    <tr>\n",
       "      <th>work_type_children</th>\n",
       "      <td>-0.643868</td>\n",
       "      <td>-0.141635</td>\n",
       "      <td>-0.123601</td>\n",
       "      <td>-0.140294</td>\n",
       "      <td>-0.400415</td>\n",
       "      <td>-0.291274</td>\n",
       "      <td>0.044516</td>\n",
       "      <td>-0.557023</td>\n",
       "      <td>-0.373591</td>\n",
       "      <td>-0.155895</td>\n",
       "      <td>1.000000</td>\n",
       "      <td>-0.034440</td>\n",
       "      <td>-0.138620</td>\n",
       "      <td>-0.210063</td>\n",
       "      <td>-0.134329</td>\n",
       "    </tr>\n",
       "    <tr>\n",
       "      <th>Residence_type_Urban</th>\n",
       "      <td>0.062989</td>\n",
       "      <td>-0.028588</td>\n",
       "      <td>0.004918</td>\n",
       "      <td>0.013094</td>\n",
       "      <td>0.028668</td>\n",
       "      <td>0.020122</td>\n",
       "      <td>-0.012719</td>\n",
       "      <td>-0.033111</td>\n",
       "      <td>0.006087</td>\n",
       "      <td>-0.011062</td>\n",
       "      <td>-0.034440</td>\n",
       "      <td>1.000000</td>\n",
       "      <td>0.013510</td>\n",
       "      <td>-0.044040</td>\n",
       "      <td>0.012269</td>\n",
       "    </tr>\n",
       "    <tr>\n",
       "      <th>smoking_status_formerly smoked</th>\n",
       "      <td>0.220024</td>\n",
       "      <td>0.072079</td>\n",
       "      <td>-0.008830</td>\n",
       "      <td>0.072406</td>\n",
       "      <td>0.104949</td>\n",
       "      <td>0.134665</td>\n",
       "      <td>0.098978</td>\n",
       "      <td>0.185824</td>\n",
       "      <td>-0.017249</td>\n",
       "      <td>0.090339</td>\n",
       "      <td>-0.138620</td>\n",
       "      <td>0.013510</td>\n",
       "      <td>1.000000</td>\n",
       "      <td>-0.403503</td>\n",
       "      <td>-0.226817</td>\n",
       "    </tr>\n",
       "    <tr>\n",
       "      <th>smoking_status_never smoked</th>\n",
       "      <td>0.175853</td>\n",
       "      <td>0.141342</td>\n",
       "      <td>-0.016937</td>\n",
       "      <td>0.059054</td>\n",
       "      <td>0.092657</td>\n",
       "      <td>0.004185</td>\n",
       "      <td>-0.172964</td>\n",
       "      <td>0.128195</td>\n",
       "      <td>0.021032</td>\n",
       "      <td>0.079501</td>\n",
       "      <td>-0.210063</td>\n",
       "      <td>-0.044040</td>\n",
       "      <td>-0.403503</td>\n",
       "      <td>1.000000</td>\n",
       "      <td>-0.315422</td>\n",
       "    </tr>\n",
       "    <tr>\n",
       "      <th>smoking_status_smokes</th>\n",
       "      <td>-0.004436</td>\n",
       "      <td>-0.005289</td>\n",
       "      <td>0.153507</td>\n",
       "      <td>0.013467</td>\n",
       "      <td>0.067535</td>\n",
       "      <td>0.050529</td>\n",
       "      <td>0.083080</td>\n",
       "      <td>0.084934</td>\n",
       "      <td>0.120813</td>\n",
       "      <td>-0.020749</td>\n",
       "      <td>-0.134329</td>\n",
       "      <td>0.012269</td>\n",
       "      <td>-0.226817</td>\n",
       "      <td>-0.315422</td>\n",
       "      <td>1.000000</td>\n",
       "    </tr>\n",
       "  </tbody>\n",
       "</table>\n",
       "</div>"
      ],
      "text/plain": [
       "                                     age  hypertension  heart_disease  \\\n",
       "age                             1.000000      0.292581       0.265034   \n",
       "hypertension                    0.292581      1.000000       0.069065   \n",
       "heart_disease                   0.265034      0.069065       1.000000   \n",
       "avg_glucose_level               0.277942      0.172504       0.203468   \n",
       "bmi                             0.267526      0.156726       0.049494   \n",
       "stroke                          0.597024      0.270718       0.172861   \n",
       "gender_Male                     0.002255      0.004510       0.089374   \n",
       "ever_married_Yes                0.609941      0.116169       0.097501   \n",
       "work_type_Private               0.067157     -0.070408       0.017015   \n",
       "work_type_Self-employed         0.312768      0.208528       0.022211   \n",
       "work_type_children             -0.643868     -0.141635      -0.123601   \n",
       "Residence_type_Urban            0.062989     -0.028588       0.004918   \n",
       "smoking_status_formerly smoked  0.220024      0.072079      -0.008830   \n",
       "smoking_status_never smoked     0.175853      0.141342      -0.016937   \n",
       "smoking_status_smokes          -0.004436     -0.005289       0.153507   \n",
       "\n",
       "                                avg_glucose_level       bmi    stroke  \\\n",
       "age                                      0.277942  0.267526  0.597024   \n",
       "hypertension                             0.172504  0.156726  0.270718   \n",
       "heart_disease                            0.203468  0.049494  0.172861   \n",
       "avg_glucose_level                        1.000000  0.295487  0.199494   \n",
       "bmi                                      0.295487  1.000000  0.165334   \n",
       "stroke                                   0.199494  0.165334  1.000000   \n",
       "gender_Male                              0.084726 -0.029294  0.049000   \n",
       "ever_married_Yes                         0.232298  0.321997  0.302653   \n",
       "work_type_Private                        0.020828  0.173579  0.040663   \n",
       "work_type_Self-employed                  0.023102  0.037608  0.173073   \n",
       "work_type_children                      -0.140294 -0.400415 -0.291274   \n",
       "Residence_type_Urban                     0.013094  0.028668  0.020122   \n",
       "smoking_status_formerly smoked           0.072406  0.104949  0.134665   \n",
       "smoking_status_never smoked              0.059054  0.092657  0.004185   \n",
       "smoking_status_smokes                    0.013467  0.067535  0.050529   \n",
       "\n",
       "                                gender_Male  ever_married_Yes  \\\n",
       "age                                0.002255          0.609941   \n",
       "hypertension                       0.004510          0.116169   \n",
       "heart_disease                      0.089374          0.097501   \n",
       "avg_glucose_level                  0.084726          0.232298   \n",
       "bmi                               -0.029294          0.321997   \n",
       "stroke                             0.049000          0.302653   \n",
       "gender_Male                        1.000000          0.013119   \n",
       "ever_married_Yes                   0.013119          1.000000   \n",
       "work_type_Private                  0.025005          0.123824   \n",
       "work_type_Self-employed           -0.044772          0.185444   \n",
       "work_type_children                 0.044516         -0.557023   \n",
       "Residence_type_Urban              -0.012719         -0.033111   \n",
       "smoking_status_formerly smoked     0.098978          0.185824   \n",
       "smoking_status_never smoked       -0.172964          0.128195   \n",
       "smoking_status_smokes              0.083080          0.084934   \n",
       "\n",
       "                                work_type_Private  work_type_Self-employed  \\\n",
       "age                                      0.067157                 0.312768   \n",
       "hypertension                            -0.070408                 0.208528   \n",
       "heart_disease                            0.017015                 0.022211   \n",
       "avg_glucose_level                        0.020828                 0.023102   \n",
       "bmi                                      0.173579                 0.037608   \n",
       "stroke                                   0.040663                 0.173073   \n",
       "gender_Male                              0.025005                -0.044772   \n",
       "ever_married_Yes                         0.123824                 0.185444   \n",
       "work_type_Private                        1.000000                -0.572281   \n",
       "work_type_Self-employed                 -0.572281                 1.000000   \n",
       "work_type_children                      -0.373591                -0.155895   \n",
       "Residence_type_Urban                     0.006087                -0.011062   \n",
       "smoking_status_formerly smoked          -0.017249                 0.090339   \n",
       "smoking_status_never smoked              0.021032                 0.079501   \n",
       "smoking_status_smokes                    0.120813                -0.020749   \n",
       "\n",
       "                                work_type_children  Residence_type_Urban  \\\n",
       "age                                      -0.643868              0.062989   \n",
       "hypertension                             -0.141635             -0.028588   \n",
       "heart_disease                            -0.123601              0.004918   \n",
       "avg_glucose_level                        -0.140294              0.013094   \n",
       "bmi                                      -0.400415              0.028668   \n",
       "stroke                                   -0.291274              0.020122   \n",
       "gender_Male                               0.044516             -0.012719   \n",
       "ever_married_Yes                         -0.557023             -0.033111   \n",
       "work_type_Private                        -0.373591              0.006087   \n",
       "work_type_Self-employed                  -0.155895             -0.011062   \n",
       "work_type_children                        1.000000             -0.034440   \n",
       "Residence_type_Urban                     -0.034440              1.000000   \n",
       "smoking_status_formerly smoked           -0.138620              0.013510   \n",
       "smoking_status_never smoked              -0.210063             -0.044040   \n",
       "smoking_status_smokes                    -0.134329              0.012269   \n",
       "\n",
       "                                smoking_status_formerly smoked  \\\n",
       "age                                                   0.220024   \n",
       "hypertension                                          0.072079   \n",
       "heart_disease                                        -0.008830   \n",
       "avg_glucose_level                                     0.072406   \n",
       "bmi                                                   0.104949   \n",
       "stroke                                                0.134665   \n",
       "gender_Male                                           0.098978   \n",
       "ever_married_Yes                                      0.185824   \n",
       "work_type_Private                                    -0.017249   \n",
       "work_type_Self-employed                               0.090339   \n",
       "work_type_children                                   -0.138620   \n",
       "Residence_type_Urban                                  0.013510   \n",
       "smoking_status_formerly smoked                        1.000000   \n",
       "smoking_status_never smoked                          -0.403503   \n",
       "smoking_status_smokes                                -0.226817   \n",
       "\n",
       "                                smoking_status_never smoked  \\\n",
       "age                                                0.175853   \n",
       "hypertension                                       0.141342   \n",
       "heart_disease                                     -0.016937   \n",
       "avg_glucose_level                                  0.059054   \n",
       "bmi                                                0.092657   \n",
       "stroke                                             0.004185   \n",
       "gender_Male                                       -0.172964   \n",
       "ever_married_Yes                                   0.128195   \n",
       "work_type_Private                                  0.021032   \n",
       "work_type_Self-employed                            0.079501   \n",
       "work_type_children                                -0.210063   \n",
       "Residence_type_Urban                              -0.044040   \n",
       "smoking_status_formerly smoked                    -0.403503   \n",
       "smoking_status_never smoked                        1.000000   \n",
       "smoking_status_smokes                             -0.315422   \n",
       "\n",
       "                                smoking_status_smokes  \n",
       "age                                         -0.004436  \n",
       "hypertension                                -0.005289  \n",
       "heart_disease                                0.153507  \n",
       "avg_glucose_level                            0.013467  \n",
       "bmi                                          0.067535  \n",
       "stroke                                       0.050529  \n",
       "gender_Male                                  0.083080  \n",
       "ever_married_Yes                             0.084934  \n",
       "work_type_Private                            0.120813  \n",
       "work_type_Self-employed                     -0.020749  \n",
       "work_type_children                          -0.134329  \n",
       "Residence_type_Urban                         0.012269  \n",
       "smoking_status_formerly smoked              -0.226817  \n",
       "smoking_status_never smoked                 -0.315422  \n",
       "smoking_status_smokes                        1.000000  "
      ]
     },
     "execution_count": 39,
     "metadata": {},
     "output_type": "execute_result"
    }
   ],
   "source": [
    "correlation = data.corr()\n",
    "correlation"
   ]
  },
  {
   "cell_type": "markdown",
   "id": "a7c63200",
   "metadata": {
    "papermill": {
     "duration": 0.090733,
     "end_time": "2021-10-04T16:27:06.708705",
     "exception": false,
     "start_time": "2021-10-04T16:27:06.617972",
     "status": "completed"
    },
    "tags": []
   },
   "source": [
    "**HEATMAP**"
   ]
  },
  {
   "cell_type": "code",
   "execution_count": 40,
   "id": "b8ff8271",
   "metadata": {
    "execution": {
     "iopub.execute_input": "2021-10-04T16:27:06.920012Z",
     "iopub.status.busy": "2021-10-04T16:27:06.901831Z",
     "iopub.status.idle": "2021-10-04T16:27:07.446776Z",
     "shell.execute_reply": "2021-10-04T16:27:07.446252Z",
     "shell.execute_reply.started": "2021-10-04T16:19:14.653143Z"
    },
    "id": "AOAdVuFKyA49",
    "outputId": "98eb63cb-86ff-402e-cbea-99c386e6e533",
    "papermill": {
     "duration": 0.651962,
     "end_time": "2021-10-04T16:27:07.446899",
     "exception": false,
     "start_time": "2021-10-04T16:27:06.794937",
     "status": "completed"
    },
    "tags": []
   },
   "outputs": [
    {
     "data": {
      "image/png": "[encoded data removed]",
      "text/plain": [
       "<Figure size 800x600 with 2 Axes>"
      ]
     },
     "metadata": {},
     "output_type": "display_data"
    }
   ],
   "source": [
    "sns.set({'figure.figsize':(8,6)})\n",
    "sns.heatmap(data=correlation)\n",
    "plt.title('HEATMAP')\n",
    "plt.show()"
   ]
  },
  {
   "cell_type": "markdown",
   "id": "3f205643",
   "metadata": {
    "papermill": {
     "duration": 0.061764,
     "end_time": "2021-10-04T16:27:07.565129",
     "exception": false,
     "start_time": "2021-10-04T16:27:07.503365",
     "status": "completed"
    },
    "tags": []
   },
   "source": [
    "**SPLIT DATASET INTO TRAIN AND TEST**"
   ]
  },
  {
   "cell_type": "code",
   "execution_count": 41,
   "id": "79d819d5",
   "metadata": {
    "execution": {
     "iopub.execute_input": "2021-10-04T16:27:07.688496Z",
     "iopub.status.busy": "2021-10-04T16:27:07.687856Z",
     "iopub.status.idle": "2021-10-04T16:27:07.692114Z",
     "shell.execute_reply": "2021-10-04T16:27:07.691447Z",
     "shell.execute_reply.started": "2021-10-04T16:19:15.199598Z"
    },
    "id": "X1QwEC6i3Fir",
    "outputId": "1a67b1ad-4c6a-4d9d-9d06-cc50c71efe41",
    "papermill": {
     "duration": 0.070099,
     "end_time": "2021-10-04T16:27:07.692254",
     "exception": false,
     "start_time": "2021-10-04T16:27:07.622155",
     "status": "completed"
    },
    "tags": []
   },
   "outputs": [
    {
     "name": "stdout",
     "output_type": "stream",
     "text": [
      "       age  hypertension  heart_disease  avg_glucose_level        bmi  \\\n",
      "0     67.0             0              1             228.69  36.600000   \n",
      "1     61.0             0              0             202.21  28.893237   \n",
      "2     80.0             0              1             105.92  32.500000   \n",
      "3     49.0             0              0             171.23  34.400000   \n",
      "4     79.0             1              0             174.12  24.000000   \n",
      "...    ...           ...            ...                ...        ...   \n",
      "3767  37.0             0              0              72.09  24.100000   \n",
      "3840  14.0             0              0              69.74  24.200000   \n",
      "2716  15.0             0              0              77.55  24.800000   \n",
      "391   26.0             0              0             120.31  22.300000   \n",
      "3790  53.0             0              0              60.77  28.700000   \n",
      "\n",
      "      gender_Male  ever_married_Yes  work_type_Private  \\\n",
      "0               1                 1                  1   \n",
      "1               0                 1                  0   \n",
      "2               1                 1                  1   \n",
      "3               0                 1                  1   \n",
      "4               0                 1                  0   \n",
      "...           ...               ...                ...   \n",
      "3767            0                 1                  0   \n",
      "3840            0                 0                  1   \n",
      "2716            1                 0                  1   \n",
      "391             1                 1                  1   \n",
      "3790            0                 1                  1   \n",
      "\n",
      "      work_type_Self-employed  work_type_children  Residence_type_Urban  \\\n",
      "0                           0                   0                     1   \n",
      "1                           1                   0                     0   \n",
      "2                           0                   0                     0   \n",
      "3                           0                   0                     1   \n",
      "4                           1                   0                     0   \n",
      "...                       ...                 ...                   ...   \n",
      "3767                        0                   0                     1   \n",
      "3840                        0                   0                     1   \n",
      "2716                        0                   0                     1   \n",
      "391                         0                   0                     0   \n",
      "3790                        0                   0                     0   \n",
      "\n",
      "      smoking_status_formerly smoked  smoking_status_never smoked  \\\n",
      "0                                  1                            0   \n",
      "1                                  0                            1   \n",
      "2                                  0                            1   \n",
      "3                                  0                            0   \n",
      "4                                  0                            1   \n",
      "...                              ...                          ...   \n",
      "3767                               0                            0   \n",
      "3840                               1                            0   \n",
      "2716                               0                            0   \n",
      "391                                0                            0   \n",
      "3790                               0                            0   \n",
      "\n",
      "      smoking_status_smokes  \n",
      "0                         0  \n",
      "1                         0  \n",
      "2                         0  \n",
      "3                         1  \n",
      "4                         0  \n",
      "...                     ...  \n",
      "3767                      1  \n",
      "3840                      0  \n",
      "2716                      0  \n",
      "391                       1  \n",
      "3790                      1  \n",
      "\n",
      "[498 rows x 14 columns]\n"
     ]
    }
   ],
   "source": [
    "X = data.drop(columns=['stroke'],axis =1)\n",
    "print(X)"
   ]
  },
  {
   "cell_type": "code",
   "execution_count": 42,
   "id": "6a25f122",
   "metadata": {
    "execution": {
     "iopub.execute_input": "2021-10-04T16:27:07.814453Z",
     "iopub.status.busy": "2021-10-04T16:27:07.810046Z",
     "iopub.status.idle": "2021-10-04T16:27:07.817917Z",
     "shell.execute_reply": "2021-10-04T16:27:07.818329Z",
     "shell.execute_reply.started": "2021-10-04T16:19:15.215066Z"
    },
    "id": "jUxICcDS3SKM",
    "outputId": "5cff364b-7958-441f-c161-1120f34127b7",
    "papermill": {
     "duration": 0.068338,
     "end_time": "2021-10-04T16:27:07.818476",
     "exception": false,
     "start_time": "2021-10-04T16:27:07.750138",
     "status": "completed"
    },
    "tags": []
   },
   "outputs": [
    {
     "name": "stdout",
     "output_type": "stream",
     "text": [
      "      stroke\n",
      "0          1\n",
      "1          1\n",
      "2          1\n",
      "3          1\n",
      "4          1\n",
      "...      ...\n",
      "3767       0\n",
      "3840       0\n",
      "2716       0\n",
      "391        0\n",
      "3790       0\n",
      "\n",
      "[498 rows x 1 columns]\n"
     ]
    }
   ],
   "source": [
    "y = data[['stroke']]\n",
    "print(y)"
   ]
  },
  {
   "cell_type": "code",
   "execution_count": 43,
   "id": "acdafe9f",
   "metadata": {
    "execution": {
     "iopub.execute_input": "2021-10-04T16:27:07.941259Z",
     "iopub.status.busy": "2021-10-04T16:27:07.940746Z",
     "iopub.status.idle": "2021-10-04T16:27:07.946105Z",
     "shell.execute_reply": "2021-10-04T16:27:07.946523Z",
     "shell.execute_reply.started": "2021-10-04T16:19:15.223833Z"
    },
    "id": "15aLUlY63mCs",
    "papermill": {
     "duration": 0.070199,
     "end_time": "2021-10-04T16:27:07.946718",
     "exception": false,
     "start_time": "2021-10-04T16:27:07.876519",
     "status": "completed"
    },
    "tags": []
   },
   "outputs": [],
   "source": [
    "from sklearn.preprocessing import StandardScaler\n",
    "Sc = StandardScaler()\n",
    "X = Sc.fit_transform(X)"
   ]
  },
  {
   "cell_type": "code",
   "execution_count": 44,
   "id": "5ad34e42",
   "metadata": {
    "execution": {
     "iopub.execute_input": "2021-10-04T16:27:08.067322Z",
     "iopub.status.busy": "2021-10-04T16:27:08.064813Z",
     "iopub.status.idle": "2021-10-04T16:27:08.069748Z",
     "shell.execute_reply": "2021-10-04T16:27:08.070091Z",
     "shell.execute_reply.started": "2021-10-04T16:19:15.234138Z"
    },
    "id": "Ob6rBysE4zVN",
    "outputId": "f682014c-8770-4146-da8c-474a2c6ee8cf",
    "papermill": {
     "duration": 0.066076,
     "end_time": "2021-10-04T16:27:08.070231",
     "exception": false,
     "start_time": "2021-10-04T16:27:08.004155",
     "status": "completed"
    },
    "tags": []
   },
   "outputs": [
    {
     "data": {
      "text/plain": [
       "array([[ 0.56573911, -0.44397678,  2.58099563, ...,  1.85645592,\n",
       "        -0.74908513, -0.42107596],\n",
       "       [ 0.30796225, -0.44397678, -0.38744738, ..., -0.53866078,\n",
       "         1.33496176, -0.42107596],\n",
       "       [ 1.12425563, -0.44397678,  2.58099563, ..., -0.53866078,\n",
       "         1.33496176, -0.42107596],\n",
       "       ...,\n",
       "       [-1.66832699, -0.44397678, -0.38744738, ..., -0.53866078,\n",
       "        -0.74908513, -0.42107596],\n",
       "       [-1.19573609, -0.44397678, -0.38744738, ..., -0.53866078,\n",
       "        -0.74908513,  2.37486842],\n",
       "       [-0.03574023, -0.44397678, -0.38744738, ..., -0.53866078,\n",
       "        -0.74908513,  2.37486842]])"
      ]
     },
     "execution_count": 44,
     "metadata": {},
     "output_type": "execute_result"
    }
   ],
   "source": [
    "X"
   ]
  },
  {
   "cell_type": "code",
   "execution_count": 45,
   "id": "a67c9027",
   "metadata": {
    "execution": {
     "iopub.execute_input": "2021-10-04T16:27:08.189667Z",
     "iopub.status.busy": "2021-10-04T16:27:08.185653Z",
     "iopub.status.idle": "2021-10-04T16:27:08.192945Z",
     "shell.execute_reply": "2021-10-04T16:27:08.193317Z",
     "shell.execute_reply.started": "2021-10-04T16:19:15.242216Z"
    },
    "id": "zc5YINil46g1",
    "papermill": {
     "duration": 0.067183,
     "end_time": "2021-10-04T16:27:08.193467",
     "exception": false,
     "start_time": "2021-10-04T16:27:08.126284",
     "status": "completed"
    },
    "tags": []
   },
   "outputs": [],
   "source": [
    "from sklearn.model_selection import train_test_split\n",
    "X_train,X_test,y_train,y_test=train_test_split(X,y,test_size=0.15,random_state=1)"
   ]
  },
  {
   "cell_type": "code",
   "execution_count": 46,
   "id": "1193ce72",
   "metadata": {
    "execution": {
     "iopub.execute_input": "2021-10-04T16:27:08.310196Z",
     "iopub.status.busy": "2021-10-04T16:27:08.309697Z",
     "iopub.status.idle": "2021-10-04T16:27:08.315379Z",
     "shell.execute_reply": "2021-10-04T16:27:08.315818Z",
     "shell.execute_reply.started": "2021-10-04T16:19:15.251869Z"
    },
    "id": "XTHPGW2451T1",
    "outputId": "269ad73d-5c9c-426b-b61d-268e2d318d83",
    "papermill": {
     "duration": 0.065456,
     "end_time": "2021-10-04T16:27:08.315969",
     "exception": false,
     "start_time": "2021-10-04T16:27:08.250513",
     "status": "completed"
    },
    "tags": []
   },
   "outputs": [
    {
     "data": {
      "text/plain": [
       "array([[-1.96906666, -0.44397678, -0.38744738, ..., -0.53866078,\n",
       "        -0.74908513, -0.42107596],\n",
       "       [ 0.73759035, -0.44397678, -0.38744738, ..., -0.53866078,\n",
       "         1.33496176, -0.42107596],\n",
       "       [ 0.13611101, -0.44397678, -0.38744738, ..., -0.53866078,\n",
       "        -0.74908513, -0.42107596],\n",
       "       ...,\n",
       "       [-1.75425261, -0.44397678, -0.38744738, ..., -0.53866078,\n",
       "        -0.74908513, -0.42107596],\n",
       "       [ 0.60870192, -0.44397678, -0.38744738, ..., -0.53866078,\n",
       "        -0.74908513, -0.42107596],\n",
       "       [ 0.78055316,  2.25237003, -0.38744738, ...,  1.85645592,\n",
       "        -0.74908513, -0.42107596]])"
      ]
     },
     "execution_count": 46,
     "metadata": {},
     "output_type": "execute_result"
    }
   ],
   "source": [
    "X_train"
   ]
  },
  {
   "cell_type": "markdown",
   "id": "a71336d7",
   "metadata": {
    "papermill": {
     "duration": 0.056575,
     "end_time": "2021-10-04T16:27:08.429695",
     "exception": false,
     "start_time": "2021-10-04T16:27:08.373120",
     "status": "completed"
    },
    "tags": []
   },
   "source": [
    "**MODEL TRAINING**"
   ]
  },
  {
   "cell_type": "code",
   "execution_count": 47,
   "id": "b0c8a1e2",
   "metadata": {
    "execution": {
     "iopub.execute_input": "2021-10-04T16:27:08.548670Z",
     "iopub.status.busy": "2021-10-04T16:27:08.548036Z",
     "iopub.status.idle": "2021-10-04T16:27:08.618759Z",
     "shell.execute_reply": "2021-10-04T16:27:08.618258Z",
     "shell.execute_reply.started": "2021-10-04T16:19:15.259957Z"
    },
    "id": "qgeIegc16LBs",
    "papermill": {
     "duration": 0.13153,
     "end_time": "2021-10-04T16:27:08.618880",
     "exception": false,
     "start_time": "2021-10-04T16:27:08.487350",
     "status": "completed"
    },
    "tags": []
   },
   "outputs": [],
   "source": [
    "from sklearn.linear_model import LogisticRegression\n",
    "from sklearn.tree import DecisionTreeClassifier\n",
    "from sklearn.ensemble  import RandomForestClassifier\n",
    "from sklearn.svm import SVC\n",
    "from sklearn.neighbors import KNeighborsClassifier\n"
   ]
  },
  {
   "cell_type": "code",
   "execution_count": 48,
   "id": "d030d520",
   "metadata": {
    "execution": {
     "iopub.execute_input": "2021-10-04T16:27:08.739927Z",
     "iopub.status.busy": "2021-10-04T16:27:08.739339Z",
     "iopub.status.idle": "2021-10-04T16:27:08.742849Z",
     "shell.execute_reply": "2021-10-04T16:27:08.742359Z",
     "shell.execute_reply.started": "2021-10-04T16:19:15.267550Z"
    },
    "id": "VSuc4CfE6ZzV",
    "papermill": {
     "duration": 0.066955,
     "end_time": "2021-10-04T16:27:08.742966",
     "exception": false,
     "start_time": "2021-10-04T16:27:08.676011",
     "status": "completed"
    },
    "tags": []
   },
   "outputs": [],
   "source": [
    "models = []\n",
    "models.append((\"LogisticRegression\",LogisticRegression()))\n",
    "models.append((\"DescisionTree\",DecisionTreeClassifier()))\n",
    "models.append((\"RandomForest\",RandomForestClassifier()))\n",
    "models.append((\"SupportVector\",SVC()))\n",
    "models.append((\"KNeighbors\",KNeighborsClassifier()))\n"
   ]
  },
  {
   "cell_type": "code",
   "execution_count": 49,
   "id": "834b70cf",
   "metadata": {
    "execution": {
     "iopub.execute_input": "2021-10-04T16:27:08.862429Z",
     "iopub.status.busy": "2021-10-04T16:27:08.861930Z",
     "iopub.status.idle": "2021-10-04T16:27:10.578221Z",
     "shell.execute_reply": "2021-10-04T16:27:10.577628Z",
     "shell.execute_reply.started": "2021-10-04T16:19:15.274368Z"
    },
    "id": "ZC_h9JU66dV1",
    "outputId": "d218fd71-9c37-488a-ab3d-b6b42169e8ad",
    "papermill": {
     "duration": 1.778164,
     "end_time": "2021-10-04T16:27:10.578384",
     "exception": false,
     "start_time": "2021-10-04T16:27:08.800220",
     "status": "completed"
    },
    "tags": []
   },
   "outputs": [
    {
     "name": "stdout",
     "output_type": "stream",
     "text": [
      "LogisticRegression train score = 0.7966903073286052\n",
      "LogisticRegression test score = 0.8266666666666667\n",
      "DescisionTree train score = 1.0\n",
      "DescisionTree test score = 0.6666666666666666\n",
      "RandomForest train score = 1.0\n",
      "RandomForest test score = 0.76\n",
      "SupportVector train score = 0.8156028368794326\n",
      "SupportVector test score = 0.76\n",
      "KNeighbors train score = 0.7943262411347518\n",
      "KNeighbors test score = 0.6666666666666666\n"
     ]
    }
   ],
   "source": [
    "for name,model in models:\n",
    "    model.fit(X_train,y_train)\n",
    "    train_score = model.score(X_train,y_train)\n",
    "    test_score = model.score(X_test,y_test)\n",
    "    print(name,\"train score =\",train_score)\n",
    "    print(name,\"test score =\",test_score)"
   ]
  },
  {
   "cell_type": "code",
   "execution_count": 50,
   "id": "1207d52d",
   "metadata": {},
   "outputs": [],
   "source": [
    "## Choosig Logistic Regression as best model."
   ]
  },
  {
   "cell_type": "code",
   "execution_count": 51,
   "id": "37cb50c1",
   "metadata": {
    "execution": {
     "iopub.execute_input": "2021-10-04T16:27:10.707877Z",
     "iopub.status.busy": "2021-10-04T16:27:10.707323Z",
     "iopub.status.idle": "2021-10-04T16:27:10.999460Z",
     "shell.execute_reply": "2021-10-04T16:27:10.999022Z",
     "shell.execute_reply.started": "2021-10-04T16:19:16.788388Z"
    },
    "id": "BepGin-q6hYl",
    "outputId": "f7468ea7-0f35-4f1c-c589-c0fe3bd043b9",
    "papermill": {
     "duration": 0.359265,
     "end_time": "2021-10-04T16:27:10.999589",
     "exception": false,
     "start_time": "2021-10-04T16:27:10.640324",
     "status": "completed"
    },
    "tags": []
   },
   "outputs": [
    {
     "data": {
      "text/plain": [
       "0.8266666666666667"
      ]
     },
     "execution_count": 51,
     "metadata": {},
     "output_type": "execute_result"
    }
   ],
   "source": [
    "model = LogisticRegression()\n",
    "model.fit(X_train,y_train)\n",
    "prediction = model.predict(X_test)\n",
    "probablities = model.predict_proba(X_test)\n",
    "model.score(X_test,y_test)"
   ]
  },
  {
   "cell_type": "markdown",
   "id": "200af7fc",
   "metadata": {
    "papermill": {
     "duration": 0.059045,
     "end_time": "2021-10-04T16:27:12.270268",
     "exception": false,
     "start_time": "2021-10-04T16:27:12.211223",
     "status": "completed"
    },
    "tags": []
   },
   "source": [
    "**Creating confusion matrix**"
   ]
  },
  {
   "cell_type": "code",
   "execution_count": 52,
   "id": "6629dde4",
   "metadata": {
    "execution": {
     "iopub.execute_input": "2021-10-04T16:27:12.395706Z",
     "iopub.status.busy": "2021-10-04T16:27:12.393903Z",
     "iopub.status.idle": "2021-10-04T16:27:12.405174Z",
     "shell.execute_reply": "2021-10-04T16:27:12.405798Z",
     "shell.execute_reply.started": "2021-10-04T16:19:18.374311Z"
    },
    "id": "KpJqZ5go8fDY",
    "outputId": "dffc8e1c-071e-4b85-da83-c54efd890f7e",
    "papermill": {
     "duration": 0.07465,
     "end_time": "2021-10-04T16:27:12.405989",
     "exception": false,
     "start_time": "2021-10-04T16:27:12.331339",
     "status": "completed"
    },
    "tags": []
   },
   "outputs": [
    {
     "name": "stdout",
     "output_type": "stream",
     "text": [
      "[[30  9]\n",
      " [ 4 32]]\n"
     ]
    }
   ],
   "source": [
    "from sklearn.metrics import confusion_matrix\n",
    "print(confusion_matrix(y_test,prediction))"
   ]
  },
  {
   "cell_type": "markdown",
   "id": "31120956",
   "metadata": {
    "papermill": {
     "duration": 0.08865,
     "end_time": "2021-10-04T16:27:12.582788",
     "exception": false,
     "start_time": "2021-10-04T16:27:12.494138",
     "status": "completed"
    },
    "tags": []
   },
   "source": [
    "**Creating classification report**"
   ]
  },
  {
   "cell_type": "code",
   "execution_count": 53,
   "id": "53d3872f",
   "metadata": {
    "execution": {
     "iopub.execute_input": "2021-10-04T16:27:12.763090Z",
     "iopub.status.busy": "2021-10-04T16:27:12.762423Z",
     "iopub.status.idle": "2021-10-04T16:27:12.776132Z",
     "shell.execute_reply": "2021-10-04T16:27:12.776694Z",
     "shell.execute_reply.started": "2021-10-04T16:19:18.385271Z"
    },
    "id": "QdGKYY_K8659",
    "outputId": "953dcc2c-7315-49ab-f828-6de863e3d7bd",
    "papermill": {
     "duration": 0.10432,
     "end_time": "2021-10-04T16:27:12.776877",
     "exception": false,
     "start_time": "2021-10-04T16:27:12.672557",
     "status": "completed"
    },
    "tags": []
   },
   "outputs": [
    {
     "name": "stdout",
     "output_type": "stream",
     "text": [
      "              precision    recall  f1-score   support\n",
      "\n",
      "           0       0.88      0.77      0.82        39\n",
      "           1       0.78      0.89      0.83        36\n",
      "\n",
      "    accuracy                           0.83        75\n",
      "   macro avg       0.83      0.83      0.83        75\n",
      "weighted avg       0.83      0.83      0.83        75\n",
      "\n"
     ]
    }
   ],
   "source": [
    "from sklearn.metrics import classification_report\n",
    "print(classification_report(y_test,prediction))"
   ]
  },
  {
   "cell_type": "code",
   "execution_count": 54,
   "id": "10c8017e",
   "metadata": {
    "id": "F5JqYM8g9DHN",
    "papermill": {
     "duration": 0.091086,
     "end_time": "2021-10-04T16:27:12.958135",
     "exception": false,
     "start_time": "2021-10-04T16:27:12.867049",
     "status": "completed"
    },
    "tags": []
   },
   "outputs": [
    {
     "data": {
      "text/plain": [
       "(423, 14)"
      ]
     },
     "execution_count": 54,
     "metadata": {},
     "output_type": "execute_result"
    }
   ],
   "source": [
    "X_train.shape"
   ]
  },
  {
   "cell_type": "markdown",
   "id": "00ae3f2f",
   "metadata": {
    "id": "mWcjyxmE_Yxm",
    "papermill": {
     "duration": 0.088921,
     "end_time": "2021-10-04T16:27:13.138258",
     "exception": false,
     "start_time": "2021-10-04T16:27:13.049337",
     "status": "completed"
    },
    "tags": []
   },
   "source": [
    "### Saving model"
   ]
  },
  {
   "cell_type": "code",
   "execution_count": 55,
   "id": "a4cc2f13",
   "metadata": {},
   "outputs": [],
   "source": [
    "import pickle"
   ]
  },
  {
   "cell_type": "code",
   "execution_count": 63,
   "id": "c7a64392",
   "metadata": {},
   "outputs": [],
   "source": [
    "pickle_out = open(\"stroke.pkl\",\"wb\")\n",
    "pickle.dump(model,pickle_out)"
   ]
  },
  {
   "cell_type": "code",
   "execution_count": 64,
   "id": "0acc1d97",
   "metadata": {},
   "outputs": [
    {
     "name": "stdout",
     "output_type": "stream",
     "text": [
      "0.8266666666666667\n"
     ]
    }
   ],
   "source": [
    "loaded_model = pickle.load(open(\"stroke.pkl\",\"rb\"))\n",
    "result = loaded_model.score(X_test,y_test)\n",
    "print(result)"
   ]
  },
  {
   "cell_type": "code",
   "execution_count": null,
   "id": "04f38b31",
   "metadata": {},
   "outputs": [],
   "source": []
  }
 ],
 "metadata": {
  "kernelspec": {
   "display_name": "Python 3",
   "language": "python",
   "name": "python3"
  },
  "language_info": {
   "codemirror_mode": {
    "name": "ipython",
    "version": 3
   },
   "file_extension": ".py",
   "mimetype": "text/x-python",
   "name": "python",
   "nbconvert_exporter": "python",
   "pygments_lexer": "ipython3",
   "version": "3.8.8"
  },
  "papermill": {
   "default_parameters": {},
   "duration": 28.02547,
   "end_time": "2021-10-04T16:27:14.583716",
   "environment_variables": {},
   "exception": null,
   "input_path": "__notebook__.ipynb",
   "output_path": "__notebook__.ipynb",
   "parameters": {},
   "start_time": "2021-10-04T16:26:46.558246",
   "version": "2.3.3"
  }
 },
 "nbformat": 4,
 "nbformat_minor": 5
}
